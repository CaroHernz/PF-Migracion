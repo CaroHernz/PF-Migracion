{
 "cells": [
  {
   "cell_type": "code",
   "execution_count": 1,
   "metadata": {},
   "outputs": [],
   "source": [
    "import numpy as np\n",
    "\n",
    "import pandas as pd\n",
    "\n",
    "import pickle\n",
    "\n",
    "from matplotlib import pyplot as plt\n",
    "\n",
    "import statsmodels as sm\n",
    "\n",
    "from sklearn.model_selection import train_test_split\n",
    "\n",
    "from statsmodels.tsa.stattools import adfuller  \n",
    "\n",
    "from statsmodels.tsa.ar_model import AutoReg\n",
    "\n",
    "from statsmodels.tsa.arima.model import ARIMA\n",
    "\n",
    "from pmdarima import auto_arima\n",
    "# Ignore harmless warnings\n",
    "import warnings \n",
    "warnings.filterwarnings(\"ignore\")"
   ]
  },
  {
   "cell_type": "code",
   "execution_count": 2,
   "metadata": {},
   "outputs": [],
   "source": [
    "df_argentina = pd.read_csv('datasets/argentina.csv',index_col=0,parse_dates=True)\n",
    "df_chile= pd.read_csv('datasets/chile.csv',index_col=0,parse_dates=True)\n",
    "df_colombia = pd.read_csv('datasets/colombia.csv',index_col=0,parse_dates=True)\n",
    "df_el_salvador = pd.read_csv('datasets/el salvador.csv',index_col=0,parse_dates=True)\n",
    "df_estados_unidos = pd.read_csv('datasets/estados unidos.csv',index_col=0,parse_dates=True)\n",
    "df_guatemala = pd.read_csv('datasets/guatemala.csv',index_col=0,parse_dates=True)\n",
    "df_honduras = pd.read_csv('datasets/honduras.csv',index_col=0,parse_dates=True)\n",
    "df_mexico = pd.read_csv('datasets/mexico.csv',index_col=0,parse_dates=True)\n",
    "df_uruguay = pd.read_csv('datasets/uruguay.csv',index_col=0,parse_dates=True)\n",
    "\n",
    "df_mexico = df_mexico.rename(columns={'méxico': 'mexico'})"
   ]
  },
  {
   "cell_type": "code",
   "execution_count": 3,
   "metadata": {},
   "outputs": [],
   "source": [
    "list = [df_argentina,df_chile,df_colombia,df_el_salvador,df_estados_unidos,df_guatemala,df_honduras,df_mexico,df_uruguay]"
   ]
  },
  {
   "cell_type": "code",
   "execution_count": 4,
   "metadata": {},
   "outputs": [
    {
     "name": "stdout",
     "output_type": "stream",
     "text": [
      "Performing stepwise search to minimize aic\n",
      " ARIMA(2,1,2)(0,0,0)[0] intercept   : AIC=1268.366, Time=0.42 sec\n",
      " ARIMA(0,1,0)(0,0,0)[0] intercept   : AIC=1270.122, Time=0.01 sec\n",
      " ARIMA(1,1,0)(0,0,0)[0] intercept   : AIC=1266.330, Time=0.02 sec\n",
      " ARIMA(0,1,1)(0,0,0)[0] intercept   : AIC=1267.720, Time=0.03 sec\n",
      " ARIMA(0,1,0)(0,0,0)[0]             : AIC=1268.218, Time=0.01 sec\n",
      " ARIMA(2,1,0)(0,0,0)[0] intercept   : AIC=1267.521, Time=0.03 sec\n",
      " ARIMA(1,1,1)(0,0,0)[0] intercept   : AIC=1267.805, Time=0.04 sec\n",
      " ARIMA(2,1,1)(0,0,0)[0] intercept   : AIC=1269.596, Time=0.07 sec\n",
      " ARIMA(1,1,0)(0,0,0)[0]             : AIC=1264.429, Time=0.02 sec\n",
      " ARIMA(2,1,0)(0,0,0)[0]             : AIC=1265.633, Time=0.03 sec\n",
      " ARIMA(1,1,1)(0,0,0)[0]             : AIC=1265.902, Time=0.03 sec\n",
      " ARIMA(0,1,1)(0,0,0)[0]             : AIC=1265.823, Time=0.02 sec\n",
      " ARIMA(2,1,1)(0,0,0)[0]             : AIC=1267.708, Time=0.05 sec\n",
      "\n",
      "Best model:  ARIMA(1,1,0)(0,0,0)[0]          \n",
      "Total fit time: 0.803 seconds\n"
     ]
    }
   ],
   "source": [
    "#stepwise_fit = auto_arima(df[name], trace=True, suppress_warnings=True)\n",
    "stepwise_fit = auto_arima(df_argentina['argentina'], trace=True, suppress_warnings=True)\n",
    "\n",
    "\n",
    "p = stepwise_fit.order[0]\n",
    "d = stepwise_fit.order[1]\n",
    "q = stepwise_fit.order[2]\n",
    "split_point = int(len(df_argentina) * 0.75)\n",
    "train = df_argentina.iloc[:split_point]\n",
    "test = df_argentina.iloc[split_point:]\n",
    "model = ARIMA(df_argentina['argentina'],order=(p,d,q))\n",
    "argentina_model = model.fit()\n",
    "start=len(train)\n",
    "end = len(train)+len(test)-1\n",
    "pred=argentina_model.predict(start=start,end=end,typ='levels')\n",
    "\n",
    "pickle.dump(argentina_model, open('argentina_model','wb'))\n"
   ]
  },
  {
   "cell_type": "code",
   "execution_count": 5,
   "metadata": {},
   "outputs": [
    {
     "name": "stdout",
     "output_type": "stream",
     "text": [
      "Performing stepwise search to minimize aic\n",
      " ARIMA(2,1,2)(0,0,0)[0] intercept   : AIC=inf, Time=0.38 sec\n",
      " ARIMA(0,1,0)(0,0,0)[0] intercept   : AIC=1400.179, Time=0.01 sec\n",
      " ARIMA(1,1,0)(0,0,0)[0] intercept   : AIC=1398.743, Time=0.02 sec\n",
      " ARIMA(0,1,1)(0,0,0)[0] intercept   : AIC=1398.827, Time=0.03 sec\n",
      " ARIMA(0,1,0)(0,0,0)[0]             : AIC=1398.822, Time=0.01 sec\n",
      " ARIMA(2,1,0)(0,0,0)[0] intercept   : AIC=1398.964, Time=0.03 sec\n",
      " ARIMA(1,1,1)(0,0,0)[0] intercept   : AIC=1400.717, Time=0.10 sec\n",
      " ARIMA(2,1,1)(0,0,0)[0] intercept   : AIC=1402.599, Time=0.09 sec\n",
      " ARIMA(1,1,0)(0,0,0)[0]             : AIC=1397.212, Time=0.01 sec\n",
      " ARIMA(2,1,0)(0,0,0)[0]             : AIC=1397.907, Time=0.03 sec\n",
      " ARIMA(1,1,1)(0,0,0)[0]             : AIC=1399.211, Time=0.03 sec\n",
      " ARIMA(0,1,1)(0,0,0)[0]             : AIC=1397.358, Time=0.02 sec\n",
      " ARIMA(2,1,1)(0,0,0)[0]             : AIC=1398.075, Time=0.06 sec\n",
      "\n",
      "Best model:  ARIMA(1,1,0)(0,0,0)[0]          \n",
      "Total fit time: 0.839 seconds\n"
     ]
    }
   ],
   "source": [
    "#stepwise_fit = auto_arima(df[name], trace=True, suppress_warnings=True)\n",
    "stepwise_fit = auto_arima(df_chile['chile'], trace=True, suppress_warnings=True)\n",
    "\n",
    "p = stepwise_fit.order[0]\n",
    "d = stepwise_fit.order[1]\n",
    "q = stepwise_fit.order[2]\n",
    "split_point = int(len(df_chile) * 0.75)\n",
    "train = df_chile.iloc[:split_point]\n",
    "test = df_chile.iloc[split_point:]\n",
    "model = ARIMA(df_chile['chile'],order=(p,d,q))\n",
    "chile_model = model.fit()\n",
    "start=len(train)\n",
    "end = len(train)+len(test)-1\n",
    "pred=chile_model.predict(start=start,end=end,typ='levels')\n",
    "\n",
    "pickle.dump(chile_model, open('chile_model','wb'))\n"
   ]
  },
  {
   "cell_type": "code",
   "execution_count": 6,
   "metadata": {},
   "outputs": [
    {
     "name": "stdout",
     "output_type": "stream",
     "text": [
      "Performing stepwise search to minimize aic\n",
      " ARIMA(2,1,2)(0,0,0)[0] intercept   : AIC=1482.359, Time=0.11 sec\n",
      " ARIMA(0,1,0)(0,0,0)[0] intercept   : AIC=1506.173, Time=0.01 sec\n",
      " ARIMA(1,1,0)(0,0,0)[0] intercept   : AIC=1494.770, Time=0.02 sec\n",
      " ARIMA(0,1,1)(0,0,0)[0] intercept   : AIC=1490.384, Time=0.03 sec\n",
      " ARIMA(0,1,0)(0,0,0)[0]             : AIC=1504.565, Time=0.01 sec\n",
      " ARIMA(1,1,2)(0,0,0)[0] intercept   : AIC=1492.901, Time=0.11 sec\n",
      " ARIMA(2,1,1)(0,0,0)[0] intercept   : AIC=1481.983, Time=0.06 sec\n",
      " ARIMA(1,1,1)(0,0,0)[0] intercept   : AIC=1491.265, Time=0.04 sec\n",
      " ARIMA(2,1,0)(0,0,0)[0] intercept   : AIC=1481.151, Time=0.04 sec\n",
      " ARIMA(3,1,0)(0,0,0)[0] intercept   : AIC=1480.668, Time=0.05 sec\n",
      " ARIMA(4,1,0)(0,0,0)[0] intercept   : AIC=1481.489, Time=0.07 sec\n",
      " ARIMA(3,1,1)(0,0,0)[0] intercept   : AIC=1481.707, Time=0.10 sec\n",
      " ARIMA(4,1,1)(0,0,0)[0] intercept   : AIC=1483.489, Time=0.13 sec\n",
      " ARIMA(3,1,0)(0,0,0)[0]             : AIC=1479.910, Time=0.04 sec\n",
      " ARIMA(2,1,0)(0,0,0)[0]             : AIC=1479.911, Time=0.05 sec\n",
      " ARIMA(4,1,0)(0,0,0)[0]             : AIC=1480.395, Time=0.07 sec\n",
      " ARIMA(3,1,1)(0,0,0)[0]             : AIC=1480.789, Time=0.13 sec\n",
      " ARIMA(2,1,1)(0,0,0)[0]             : AIC=1480.720, Time=0.05 sec\n",
      " ARIMA(4,1,1)(0,0,0)[0]             : AIC=1482.435, Time=0.14 sec\n",
      "\n",
      "Best model:  ARIMA(3,1,0)(0,0,0)[0]          \n",
      "Total fit time: 1.264 seconds\n"
     ]
    }
   ],
   "source": [
    "#stepwise_fit = auto_arima(df[name], trace=True, suppress_warnings=True)\n",
    "stepwise_fit = auto_arima(df_colombia['colombia'], trace=True, suppress_warnings=True)\n",
    "\n",
    "p = stepwise_fit.order[0]\n",
    "d = stepwise_fit.order[1]\n",
    "q = stepwise_fit.order[2]\n",
    "split_point = int(len(df_colombia) * 0.75)\n",
    "train = df_colombia.iloc[:split_point]\n",
    "test = df_colombia.iloc[split_point:]\n",
    "model = ARIMA(df_colombia['colombia'],order=(p,d,q))\n",
    "colombia_model = model.fit()\n",
    "start=len(train)\n",
    "end = len(train)+len(test)-1\n",
    "pred=colombia_model.predict(start=start,end=end,typ='levels')\n",
    "\n",
    "pickle.dump(colombia_model, open('colombia_model','wb'))"
   ]
  },
  {
   "cell_type": "code",
   "execution_count": 7,
   "metadata": {},
   "outputs": [
    {
     "name": "stdout",
     "output_type": "stream",
     "text": [
      "Performing stepwise search to minimize aic\n",
      " ARIMA(2,1,2)(0,0,0)[0] intercept   : AIC=1340.558, Time=0.42 sec\n",
      " ARIMA(0,1,0)(0,0,0)[0] intercept   : AIC=1339.513, Time=0.01 sec\n",
      " ARIMA(1,1,0)(0,0,0)[0] intercept   : AIC=1336.449, Time=0.04 sec\n",
      " ARIMA(0,1,1)(0,0,0)[0] intercept   : AIC=1336.030, Time=0.02 sec\n",
      " ARIMA(0,1,0)(0,0,0)[0]             : AIC=1337.565, Time=0.01 sec\n",
      " ARIMA(1,1,1)(0,0,0)[0] intercept   : AIC=1338.024, Time=0.04 sec\n",
      " ARIMA(0,1,2)(0,0,0)[0] intercept   : AIC=1338.403, Time=0.04 sec\n",
      " ARIMA(1,1,2)(0,0,0)[0] intercept   : AIC=1340.361, Time=0.14 sec\n",
      " ARIMA(0,1,1)(0,0,0)[0]             : AIC=1334.154, Time=0.02 sec\n",
      " ARIMA(1,1,1)(0,0,0)[0]             : AIC=1336.144, Time=0.03 sec\n",
      " ARIMA(0,1,2)(0,0,0)[0]             : AIC=1336.519, Time=0.03 sec\n",
      " ARIMA(1,1,0)(0,0,0)[0]             : AIC=1334.531, Time=0.01 sec\n",
      " ARIMA(1,1,2)(0,0,0)[0]             : AIC=1338.212, Time=0.11 sec\n",
      "\n",
      "Best model:  ARIMA(0,1,1)(0,0,0)[0]          \n",
      "Total fit time: 0.956 seconds\n"
     ]
    }
   ],
   "source": [
    "#stepwise_fit = auto_arima(df[name], trace=True, suppress_warnings=True)\n",
    "stepwise_fit = auto_arima(df_el_salvador['el salvador'], trace=True, suppress_warnings=True)\n",
    "\n",
    "p = stepwise_fit.order[0]\n",
    "d = stepwise_fit.order[1]\n",
    "q = stepwise_fit.order[2]\n",
    "split_point = int(len(df_el_salvador) * 0.75)\n",
    "train = df_el_salvador.iloc[:split_point]\n",
    "test = df_el_salvador.iloc[split_point:]\n",
    "model = ARIMA(df_el_salvador['el salvador'],order=(p,d,q))\n",
    "el_salvador_model = model.fit()\n",
    "start=len(train)\n",
    "end = len(train)+len(test)-1\n",
    "pred=el_salvador_model.predict(start=start,end=end,typ='levels')\n",
    "\n",
    "pickle.dump(el_salvador_model, open('el_salvador_model','wb'))"
   ]
  },
  {
   "cell_type": "code",
   "execution_count": 8,
   "metadata": {},
   "outputs": [
    {
     "name": "stdout",
     "output_type": "stream",
     "text": [
      "Performing stepwise search to minimize aic\n",
      " ARIMA(2,1,2)(0,0,0)[0] intercept   : AIC=1633.221, Time=0.15 sec\n",
      " ARIMA(0,1,0)(0,0,0)[0] intercept   : AIC=1633.234, Time=0.01 sec\n",
      " ARIMA(1,1,0)(0,0,0)[0] intercept   : AIC=1632.040, Time=0.02 sec\n",
      " ARIMA(0,1,1)(0,0,0)[0] intercept   : AIC=1632.747, Time=0.03 sec\n",
      " ARIMA(0,1,0)(0,0,0)[0]             : AIC=1631.243, Time=0.01 sec\n",
      " ARIMA(1,1,1)(0,0,0)[0] intercept   : AIC=1633.591, Time=0.05 sec\n",
      "\n",
      "Best model:  ARIMA(0,1,0)(0,0,0)[0]          \n",
      "Total fit time: 0.272 seconds\n"
     ]
    }
   ],
   "source": [
    "#stepwise_fit = auto_arima(df[name], trace=True, suppress_warnings=True)\n",
    "stepwise_fit = auto_arima(df_estados_unidos['estados unidos'], trace=True, suppress_warnings=True)\n",
    "\n",
    "p = stepwise_fit.order[0]\n",
    "d = stepwise_fit.order[1]\n",
    "q = stepwise_fit.order[2]\n",
    "split_point = int(len(df_estados_unidos) * 0.75)\n",
    "train = df_estados_unidos.iloc[:split_point]\n",
    "test = df_estados_unidos.iloc[split_point:]\n",
    "model = ARIMA(df_estados_unidos['estados unidos'],order=(p,d,q))\n",
    "estados_unidos_model = model.fit()\n",
    "start=len(train)\n",
    "end = len(train)+len(test)-1\n",
    "pred=estados_unidos_model.predict(start=start,end=end,typ='levels')\n",
    "\n",
    "pickle.dump(estados_unidos_model, open('estados_unidos_model','wb'))"
   ]
  },
  {
   "cell_type": "code",
   "execution_count": 9,
   "metadata": {},
   "outputs": [
    {
     "name": "stdout",
     "output_type": "stream",
     "text": [
      "Performing stepwise search to minimize aic\n",
      " ARIMA(2,1,2)(0,0,0)[0] intercept   : AIC=1256.811, Time=0.24 sec\n",
      " ARIMA(0,1,0)(0,0,0)[0] intercept   : AIC=1254.738, Time=0.01 sec\n",
      " ARIMA(1,1,0)(0,0,0)[0] intercept   : AIC=1256.664, Time=0.02 sec\n",
      " ARIMA(0,1,1)(0,0,0)[0] intercept   : AIC=1256.772, Time=0.02 sec\n",
      " ARIMA(0,1,0)(0,0,0)[0]             : AIC=1253.037, Time=0.01 sec\n",
      " ARIMA(1,1,1)(0,0,0)[0] intercept   : AIC=1258.783, Time=0.06 sec\n",
      "\n",
      "Best model:  ARIMA(0,1,0)(0,0,0)[0]          \n",
      "Total fit time: 0.361 seconds\n"
     ]
    }
   ],
   "source": [
    "#stepwise_fit = auto_arima(df[name], trace=True, suppress_warnings=True)\n",
    "stepwise_fit = auto_arima(df_guatemala['guatemala'], trace=True, suppress_warnings=True)\n",
    "\n",
    "p = stepwise_fit.order[0]\n",
    "d = stepwise_fit.order[1]\n",
    "q = stepwise_fit.order[2]\n",
    "split_point = int(len(df_guatemala) * 0.75)\n",
    "train = df_guatemala.iloc[:split_point]\n",
    "test = df_guatemala.iloc[split_point:]\n",
    "model = ARIMA(df_guatemala['guatemala'],order=(p,d,q))\n",
    "guatemala_model = model.fit()\n",
    "start=len(train)\n",
    "end = len(train)+len(test)-1\n",
    "pred=guatemala_model.predict(start=start,end=end,typ='levels')\n",
    "\n",
    "pickle.dump(guatemala_model, open('guatemala_model','wb'))"
   ]
  },
  {
   "cell_type": "code",
   "execution_count": 10,
   "metadata": {},
   "outputs": [
    {
     "name": "stdout",
     "output_type": "stream",
     "text": [
      "Performing stepwise search to minimize aic\n",
      " ARIMA(2,0,2)(0,0,0)[0] intercept   : AIC=726.905, Time=0.30 sec\n",
      " ARIMA(0,0,0)(0,0,0)[0] intercept   : AIC=1191.265, Time=0.01 sec\n",
      " ARIMA(1,0,0)(0,0,0)[0] intercept   : AIC=951.666, Time=0.06 sec\n",
      " ARIMA(0,0,1)(0,0,0)[0] intercept   : AIC=inf, Time=0.07 sec\n",
      " ARIMA(0,0,0)(0,0,0)[0]             : AIC=1320.990, Time=0.01 sec\n",
      " ARIMA(1,0,2)(0,0,0)[0] intercept   : AIC=inf, Time=0.27 sec\n",
      " ARIMA(2,0,1)(0,0,0)[0] intercept   : AIC=730.890, Time=0.13 sec\n",
      " ARIMA(3,0,2)(0,0,0)[0] intercept   : AIC=725.712, Time=0.38 sec\n",
      " ARIMA(3,0,1)(0,0,0)[0] intercept   : AIC=724.273, Time=0.36 sec\n",
      " ARIMA(3,0,0)(0,0,0)[0] intercept   : AIC=727.475, Time=0.15 sec\n",
      " ARIMA(4,0,1)(0,0,0)[0] intercept   : AIC=inf, Time=0.35 sec\n",
      " ARIMA(2,0,0)(0,0,0)[0] intercept   : AIC=768.937, Time=0.09 sec\n",
      " ARIMA(4,0,0)(0,0,0)[0] intercept   : AIC=724.485, Time=0.29 sec\n",
      " ARIMA(4,0,2)(0,0,0)[0] intercept   : AIC=inf, Time=0.48 sec\n",
      " ARIMA(3,0,1)(0,0,0)[0]             : AIC=724.673, Time=0.14 sec\n",
      "\n",
      "Best model:  ARIMA(3,0,1)(0,0,0)[0] intercept\n",
      "Total fit time: 3.095 seconds\n"
     ]
    }
   ],
   "source": [
    "#stepwise_fit = auto_arima(df[name], trace=True, suppress_warnings=True)\n",
    "stepwise_fit = auto_arima(df_honduras['honduras'], trace=True, suppress_warnings=True)\n",
    "\n",
    "p = stepwise_fit.order[0]\n",
    "d = stepwise_fit.order[1]\n",
    "q = stepwise_fit.order[2]\n",
    "split_point = int(len(df_honduras) * 0.75)\n",
    "train = df_honduras.iloc[:split_point]\n",
    "test = df_honduras.iloc[split_point:]\n",
    "model = ARIMA(df_honduras['honduras'],order=(p,d,q))\n",
    "honduras_model = model.fit()\n",
    "start=len(train)\n",
    "end = len(train)+len(test)-1\n",
    "pred=honduras_model.predict(start=start,end=end,typ='levels')\n",
    "\n",
    "pickle.dump(honduras_model, open('honduras_model','wb'))"
   ]
  },
  {
   "cell_type": "code",
   "execution_count": 11,
   "metadata": {},
   "outputs": [
    {
     "name": "stdout",
     "output_type": "stream",
     "text": [
      "Performing stepwise search to minimize aic\n",
      " ARIMA(2,0,2)(0,0,0)[0] intercept   : AIC=1571.150, Time=0.17 sec\n",
      " ARIMA(0,0,0)(0,0,0)[0] intercept   : AIC=1678.246, Time=0.01 sec\n",
      " ARIMA(1,0,0)(0,0,0)[0] intercept   : AIC=1567.141, Time=0.02 sec\n",
      " ARIMA(0,0,1)(0,0,0)[0] intercept   : AIC=1641.319, Time=0.03 sec\n",
      " ARIMA(0,0,0)(0,0,0)[0]             : AIC=1736.480, Time=0.01 sec\n",
      " ARIMA(2,0,0)(0,0,0)[0] intercept   : AIC=1567.201, Time=0.04 sec\n",
      " ARIMA(1,0,1)(0,0,0)[0] intercept   : AIC=1567.410, Time=0.04 sec\n",
      " ARIMA(2,0,1)(0,0,0)[0] intercept   : AIC=1569.303, Time=0.06 sec\n",
      " ARIMA(1,0,0)(0,0,0)[0]             : AIC=1567.044, Time=0.02 sec\n",
      " ARIMA(2,0,0)(0,0,0)[0]             : AIC=1567.772, Time=0.03 sec\n",
      " ARIMA(1,0,1)(0,0,0)[0]             : AIC=1567.880, Time=0.03 sec\n",
      " ARIMA(0,0,1)(0,0,0)[0]             : AIC=1698.614, Time=0.02 sec\n",
      " ARIMA(2,0,1)(0,0,0)[0]             : AIC=1569.855, Time=0.06 sec\n",
      "\n",
      "Best model:  ARIMA(1,0,0)(0,0,0)[0]          \n",
      "Total fit time: 0.548 seconds\n"
     ]
    }
   ],
   "source": [
    "#stepwise_fit = auto_arima(df[name], trace=True, suppress_warnings=True)\n",
    "stepwise_fit = auto_arima(df_mexico['mexico'], trace=True, suppress_warnings=True)\n",
    "\n",
    "p = stepwise_fit.order[0]\n",
    "d = stepwise_fit.order[1]\n",
    "q = stepwise_fit.order[2]\n",
    "split_point = int(len(df_mexico) * 0.75)\n",
    "train = df_mexico.iloc[:split_point]\n",
    "test = df_mexico.iloc[split_point:]\n",
    "model = ARIMA(df_mexico['mexico'],order=(p,d,q))\n",
    "mexico_model = model.fit()\n",
    "start=len(train)\n",
    "end = len(train)+len(test)-1\n",
    "pred=mexico_model.predict(start=start,end=end,typ='levels')\n",
    "\n",
    "pickle.dump(mexico_model, open('mexico_model','wb'))"
   ]
  },
  {
   "cell_type": "code",
   "execution_count": 12,
   "metadata": {},
   "outputs": [
    {
     "name": "stdout",
     "output_type": "stream",
     "text": [
      "Performing stepwise search to minimize aic\n",
      " ARIMA(2,0,2)(0,0,0)[0] intercept   : AIC=1027.600, Time=0.09 sec\n",
      " ARIMA(0,0,0)(0,0,0)[0] intercept   : AIC=1229.249, Time=0.01 sec\n",
      " ARIMA(1,0,0)(0,0,0)[0] intercept   : AIC=1067.523, Time=0.08 sec\n",
      " ARIMA(0,0,1)(0,0,0)[0] intercept   : AIC=inf, Time=0.07 sec\n",
      " ARIMA(0,0,0)(0,0,0)[0]             : AIC=1317.967, Time=0.01 sec\n",
      " ARIMA(1,0,2)(0,0,0)[0] intercept   : AIC=1031.371, Time=0.14 sec\n",
      " ARIMA(2,0,1)(0,0,0)[0] intercept   : AIC=1024.321, Time=0.05 sec\n",
      " ARIMA(1,0,1)(0,0,0)[0] intercept   : AIC=1035.679, Time=0.15 sec\n",
      " ARIMA(2,0,0)(0,0,0)[0] intercept   : AIC=1021.362, Time=0.12 sec\n",
      " ARIMA(3,0,0)(0,0,0)[0] intercept   : AIC=1023.361, Time=0.22 sec\n",
      " ARIMA(3,0,1)(0,0,0)[0] intercept   : AIC=1024.366, Time=0.11 sec\n",
      " ARIMA(2,0,0)(0,0,0)[0]             : AIC=1022.231, Time=0.05 sec\n",
      "\n",
      "Best model:  ARIMA(2,0,0)(0,0,0)[0] intercept\n",
      "Total fit time: 1.110 seconds\n"
     ]
    }
   ],
   "source": [
    "#stepwise_fit = auto_arima(df[name], trace=True, suppress_warnings=True)\n",
    "stepwise_fit = auto_arima(df_uruguay['uruguay'], trace=True, suppress_warnings=True)\n",
    "\n",
    "p = stepwise_fit.order[0]\n",
    "d = stepwise_fit.order[1]\n",
    "q = stepwise_fit.order[2]\n",
    "split_point = int(len(df_uruguay) * 0.75)\n",
    "train = df_uruguay.iloc[:split_point]\n",
    "test = df_uruguay.iloc[split_point:]\n",
    "model = ARIMA(df_uruguay['uruguay'],order=(p,d,q))\n",
    "uruguay_model = model.fit()\n",
    "start=len(train)\n",
    "end = len(train)+len(test)-1\n",
    "pred=uruguay_model.predict(start=start,end=end,typ='levels')\n",
    "\n",
    "pickle.dump(uruguay_model, open('uruguay_model','wb'))"
   ]
  }
 ],
 "metadata": {
  "kernelspec": {
   "display_name": "Python 3",
   "language": "python",
   "name": "python3"
  },
  "language_info": {
   "codemirror_mode": {
    "name": "ipython",
    "version": 3
   },
   "file_extension": ".py",
   "mimetype": "text/x-python",
   "name": "python",
   "nbconvert_exporter": "python",
   "pygments_lexer": "ipython3",
   "version": "3.10.9"
  },
  "orig_nbformat": 4
 },
 "nbformat": 4,
 "nbformat_minor": 2
}
