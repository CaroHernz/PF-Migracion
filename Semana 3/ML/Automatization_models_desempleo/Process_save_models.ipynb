{
 "cells": [
  {
   "cell_type": "code",
   "execution_count": 1,
   "metadata": {},
   "outputs": [],
   "source": [
    "import numpy as np\n",
    "\n",
    "import pandas as pd\n",
    "\n",
    "import pickle\n",
    "\n",
    "from pandas.tseries.offsets import DateOffset\n",
    "\n",
    "from matplotlib import pyplot as plt\n",
    "\n",
    "from sklearn.model_selection import train_test_split\n",
    "\n",
    "from statsmodels.tsa.stattools import adfuller \n",
    "\n",
    "from statsmodels.tsa.ar_model import AutoReg\n",
    "\n",
    "from statsmodels.tsa.arima.model import ARIMA\n",
    "\n",
    "from pmdarima import auto_arima\n",
    "# Ignore harmless warnings\n",
    "\n",
    "import warnings \n",
    "warnings.filterwarnings(\"ignore\")"
   ]
  },
  {
   "cell_type": "code",
   "execution_count": 2,
   "metadata": {},
   "outputs": [],
   "source": [
    "df_argentina = pd.read_csv('datasets/argentina.csv',index_col=0,parse_dates=True)\n",
    "df_chile= pd.read_csv('datasets/chile.csv',index_col=0,parse_dates=True)\n",
    "df_colombia = pd.read_csv('datasets/colombia.csv',index_col=0,parse_dates=True)\n",
    "df_el_salvador = pd.read_csv('datasets/el salvador.csv',index_col=0,parse_dates=True)\n",
    "df_estados_unidos = pd.read_csv('datasets/estados unidos.csv',index_col=0,parse_dates=True)\n",
    "df_guatemala = pd.read_csv('datasets/guatemala.csv',index_col=0,parse_dates=True)\n",
    "df_honduras = pd.read_csv('datasets/honduras.csv',index_col=0,parse_dates=True)\n",
    "df_mexico = pd.read_csv('datasets/mexico.csv',index_col=0,parse_dates=True)\n",
    "df_uruguay = pd.read_csv('datasets/uruguay.csv',index_col=0,parse_dates=True)\n",
    "\n",
    "df_mexico = df_mexico.rename(columns={'méxico': 'mexico'})"
   ]
  },
  {
   "cell_type": "code",
   "execution_count": 3,
   "metadata": {},
   "outputs": [],
   "source": [
    "list = [df_argentina,df_chile,df_colombia,df_el_salvador,df_estados_unidos,df_guatemala,df_honduras,df_mexico,df_uruguay]"
   ]
  },
  {
   "cell_type": "code",
   "execution_count": 4,
   "metadata": {},
   "outputs": [
    {
     "name": "stdout",
     "output_type": "stream",
     "text": [
      "Performing stepwise search to minimize aic\n",
      " ARIMA(2,0,2)(0,0,0)[0] intercept   : AIC=141.218, Time=0.16 sec\n",
      " ARIMA(0,0,0)(0,0,0)[0] intercept   : AIC=175.763, Time=0.01 sec\n",
      " ARIMA(1,0,0)(0,0,0)[0] intercept   : AIC=139.803, Time=0.03 sec\n",
      " ARIMA(0,0,1)(0,0,0)[0] intercept   : AIC=153.814, Time=0.04 sec\n",
      " ARIMA(0,0,0)(0,0,0)[0]             : AIC=241.786, Time=0.02 sec\n",
      " ARIMA(2,0,0)(0,0,0)[0] intercept   : AIC=138.946, Time=0.05 sec\n",
      " ARIMA(3,0,0)(0,0,0)[0] intercept   : AIC=140.043, Time=0.08 sec\n",
      " ARIMA(2,0,1)(0,0,0)[0] intercept   : AIC=inf, Time=0.29 sec\n",
      " ARIMA(1,0,1)(0,0,0)[0] intercept   : AIC=139.949, Time=0.12 sec\n",
      " ARIMA(3,0,1)(0,0,0)[0] intercept   : AIC=141.529, Time=0.09 sec\n",
      " ARIMA(2,0,0)(0,0,0)[0]             : AIC=141.871, Time=0.04 sec\n",
      "\n",
      "Best model:  ARIMA(2,0,0)(0,0,0)[0] intercept\n",
      "Total fit time: 0.940 seconds\n"
     ]
    }
   ],
   "source": [
    "#stepwise_fit = auto_arima(df[name], trace=True, suppress_warnings=True)\n",
    "stepwise_fit = auto_arima(df_argentina['argentina'], trace=True, suppress_warnings=True)\n",
    "\n",
    "\n",
    "p = stepwise_fit.order[0]\n",
    "d = stepwise_fit.order[1]\n",
    "q = stepwise_fit.order[2]\n",
    "split_point = int(len(df_argentina) * 0.75)\n",
    "train = df_argentina.iloc[:split_point]\n",
    "test = df_argentina.iloc[split_point:]\n",
    "model = ARIMA(df_argentina['argentina'],order=(p,d,q))\n",
    "argentina_model = model.fit()\n",
    "start=len(train)\n",
    "end = len(train)+len(test)-1\n",
    "pred=argentina_model.predict(start=start,end=end,typ='levels')\n",
    "\n",
    "pickle.dump(argentina_model, open('argentina_model','wb'))\n"
   ]
  },
  {
   "cell_type": "code",
   "execution_count": 5,
   "metadata": {},
   "outputs": [
    {
     "name": "stdout",
     "output_type": "stream",
     "text": [
      "Performing stepwise search to minimize aic\n",
      " ARIMA(2,0,2)(0,0,0)[0] intercept   : AIC=inf, Time=0.27 sec\n",
      " ARIMA(0,0,0)(0,0,0)[0] intercept   : AIC=135.358, Time=0.01 sec\n",
      " ARIMA(1,0,0)(0,0,0)[0] intercept   : AIC=113.152, Time=0.03 sec\n",
      " ARIMA(0,0,1)(0,0,0)[0] intercept   : AIC=inf, Time=0.08 sec\n",
      " ARIMA(0,0,0)(0,0,0)[0]             : AIC=220.424, Time=0.01 sec\n",
      " ARIMA(2,0,0)(0,0,0)[0] intercept   : AIC=114.848, Time=0.07 sec\n",
      " ARIMA(1,0,1)(0,0,0)[0] intercept   : AIC=114.905, Time=0.11 sec\n",
      " ARIMA(2,0,1)(0,0,0)[0] intercept   : AIC=116.837, Time=0.13 sec\n",
      " ARIMA(1,0,0)(0,0,0)[0]             : AIC=117.547, Time=0.05 sec\n",
      "\n",
      "Best model:  ARIMA(1,0,0)(0,0,0)[0] intercept\n",
      "Total fit time: 0.761 seconds\n"
     ]
    }
   ],
   "source": [
    "#stepwise_fit = auto_arima(df[name], trace=True, suppress_warnings=True)\n",
    "stepwise_fit = auto_arima(df_chile['chile'], trace=True, suppress_warnings=True)\n",
    "\n",
    "p = stepwise_fit.order[0]\n",
    "d = stepwise_fit.order[1]\n",
    "q = stepwise_fit.order[2]\n",
    "split_point = int(len(df_chile) * 0.75)\n",
    "train = df_chile.iloc[:split_point]\n",
    "test = df_chile.iloc[split_point:]\n",
    "model = ARIMA(df_chile['chile'],order=(p,d,q))\n",
    "chile_model = model.fit()\n",
    "start=len(train)\n",
    "end = len(train)+len(test)-1\n",
    "pred=chile_model.predict(start=start,end=end,typ='levels')\n",
    "\n",
    "pickle.dump(chile_model, open('chile_models','wb'))\n"
   ]
  },
  {
   "cell_type": "code",
   "execution_count": 6,
   "metadata": {},
   "outputs": [
    {
     "name": "stdout",
     "output_type": "stream",
     "text": [
      "Performing stepwise search to minimize aic\n",
      " ARIMA(2,0,2)(0,0,0)[0] intercept   : AIC=134.838, Time=0.37 sec\n",
      " ARIMA(0,0,0)(0,0,0)[0] intercept   : AIC=164.459, Time=0.01 sec\n",
      " ARIMA(1,0,0)(0,0,0)[0] intercept   : AIC=133.171, Time=0.02 sec\n",
      " ARIMA(0,0,1)(0,0,0)[0] intercept   : AIC=144.105, Time=0.03 sec\n",
      " ARIMA(0,0,0)(0,0,0)[0]             : AIC=244.250, Time=0.01 sec\n",
      " ARIMA(2,0,0)(0,0,0)[0] intercept   : AIC=132.755, Time=0.05 sec\n",
      " ARIMA(3,0,0)(0,0,0)[0] intercept   : AIC=134.539, Time=0.14 sec\n",
      " ARIMA(2,0,1)(0,0,0)[0] intercept   : AIC=inf, Time=0.19 sec\n",
      " ARIMA(1,0,1)(0,0,0)[0] intercept   : AIC=133.127, Time=0.05 sec\n",
      " ARIMA(3,0,1)(0,0,0)[0] intercept   : AIC=inf, Time=0.37 sec\n",
      " ARIMA(2,0,0)(0,0,0)[0]             : AIC=138.333, Time=0.06 sec\n",
      "\n",
      "Best model:  ARIMA(2,0,0)(0,0,0)[0] intercept\n",
      "Total fit time: 1.311 seconds\n"
     ]
    }
   ],
   "source": [
    "#stepwise_fit = auto_arima(df[name], trace=True, suppress_warnings=True)\n",
    "stepwise_fit = auto_arima(df_colombia['colombia'], trace=True, suppress_warnings=True)\n",
    "\n",
    "p = stepwise_fit.order[0]\n",
    "d = stepwise_fit.order[1]\n",
    "q = stepwise_fit.order[2]\n",
    "split_point = int(len(df_colombia) * 0.75)\n",
    "train = df_colombia.iloc[:split_point]\n",
    "test = df_colombia.iloc[split_point:]\n",
    "model = ARIMA(df_colombia['colombia'],order=(p,d,q))\n",
    "colombia_model = model.fit()\n",
    "start=len(train)\n",
    "end = len(train)+len(test)-1\n",
    "pred=colombia_model.predict(start=start,end=end,typ='levels')\n",
    "\n",
    "pickle.dump(colombia_model, open('colombia_models','wb'))"
   ]
  },
  {
   "cell_type": "code",
   "execution_count": 7,
   "metadata": {},
   "outputs": [
    {
     "name": "stdout",
     "output_type": "stream",
     "text": [
      "Performing stepwise search to minimize aic\n",
      " ARIMA(2,1,2)(0,0,0)[0] intercept   : AIC=inf, Time=0.29 sec\n",
      " ARIMA(0,1,0)(0,0,0)[0] intercept   : AIC=80.549, Time=0.02 sec\n",
      " ARIMA(1,1,0)(0,0,0)[0] intercept   : AIC=77.825, Time=0.02 sec\n",
      " ARIMA(0,1,1)(0,0,0)[0] intercept   : AIC=76.094, Time=0.04 sec\n",
      " ARIMA(0,1,0)(0,0,0)[0]             : AIC=78.995, Time=0.01 sec\n",
      " ARIMA(1,1,1)(0,0,0)[0] intercept   : AIC=inf, Time=0.18 sec\n",
      " ARIMA(0,1,2)(0,0,0)[0] intercept   : AIC=inf, Time=0.22 sec\n",
      " ARIMA(1,1,2)(0,0,0)[0] intercept   : AIC=79.557, Time=0.12 sec\n",
      " ARIMA(0,1,1)(0,0,0)[0]             : AIC=76.344, Time=0.03 sec\n",
      "\n",
      "Best model:  ARIMA(0,1,1)(0,0,0)[0] intercept\n",
      "Total fit time: 0.941 seconds\n"
     ]
    }
   ],
   "source": [
    "#stepwise_fit = auto_arima(df[name], trace=True, suppress_warnings=True)\n",
    "stepwise_fit = auto_arima(df_el_salvador['el salvador'], trace=True, suppress_warnings=True)\n",
    "\n",
    "p = stepwise_fit.order[0]\n",
    "d = stepwise_fit.order[1]\n",
    "q = stepwise_fit.order[2]\n",
    "split_point = int(len(df_el_salvador) * 0.75)\n",
    "train = df_el_salvador.iloc[:split_point]\n",
    "test = df_el_salvador.iloc[split_point:]\n",
    "model = ARIMA(df_el_salvador['el salvador'],order=(p,d,q))\n",
    "el_salvador_model = model.fit()\n",
    "start=len(train)\n",
    "end = len(train)+len(test)-1\n",
    "pred=el_salvador_model.predict(start=start,end=end,typ='levels')\n",
    "\n",
    "pickle.dump(el_salvador_model, open('el_salvador_models','wb'))"
   ]
  },
  {
   "cell_type": "code",
   "execution_count": 8,
   "metadata": {},
   "outputs": [
    {
     "name": "stdout",
     "output_type": "stream",
     "text": [
      "Performing stepwise search to minimize aic\n",
      " ARIMA(2,0,2)(0,0,0)[0] intercept   : AIC=108.545, Time=0.19 sec\n",
      " ARIMA(0,0,0)(0,0,0)[0] intercept   : AIC=120.769, Time=0.01 sec\n",
      " ARIMA(1,0,0)(0,0,0)[0] intercept   : AIC=103.839, Time=0.04 sec\n",
      " ARIMA(0,0,1)(0,0,0)[0] intercept   : AIC=107.613, Time=0.06 sec\n",
      " ARIMA(0,0,0)(0,0,0)[0]             : AIC=202.289, Time=0.02 sec\n",
      " ARIMA(2,0,0)(0,0,0)[0] intercept   : AIC=105.096, Time=0.10 sec\n",
      " ARIMA(1,0,1)(0,0,0)[0] intercept   : AIC=105.357, Time=0.08 sec\n",
      " ARIMA(2,0,1)(0,0,0)[0] intercept   : AIC=102.620, Time=0.28 sec\n",
      " ARIMA(3,0,1)(0,0,0)[0] intercept   : AIC=inf, Time=0.28 sec\n",
      " ARIMA(1,0,2)(0,0,0)[0] intercept   : AIC=106.613, Time=0.09 sec\n",
      " ARIMA(3,0,0)(0,0,0)[0] intercept   : AIC=105.315, Time=0.09 sec\n",
      " ARIMA(3,0,2)(0,0,0)[0] intercept   : AIC=inf, Time=0.38 sec\n",
      " ARIMA(2,0,1)(0,0,0)[0]             : AIC=114.120, Time=0.08 sec\n",
      "\n",
      "Best model:  ARIMA(2,0,1)(0,0,0)[0] intercept\n",
      "Total fit time: 1.727 seconds\n"
     ]
    }
   ],
   "source": [
    "#stepwise_fit = auto_arima(df[name], trace=True, suppress_warnings=True)\n",
    "stepwise_fit = auto_arima(df_estados_unidos['estados unidos'], trace=True, suppress_warnings=True)\n",
    "\n",
    "p = stepwise_fit.order[0]\n",
    "d = stepwise_fit.order[1]\n",
    "q = stepwise_fit.order[2]\n",
    "split_point = int(len(df_estados_unidos) * 0.75)\n",
    "train = df_estados_unidos.iloc[:split_point]\n",
    "test = df_estados_unidos.iloc[split_point:]\n",
    "model = ARIMA(df_estados_unidos['estados unidos'],order=(p,d,q))\n",
    "estados_unidos_model = model.fit()\n",
    "start=len(train)\n",
    "end = len(train)+len(test)-1\n",
    "pred=estados_unidos_model.predict(start=start,end=end,typ='levels')\n",
    "\n",
    "pickle.dump(estados_unidos_model, open('estados_unidos_models','wb'))"
   ]
  },
  {
   "cell_type": "code",
   "execution_count": 9,
   "metadata": {},
   "outputs": [
    {
     "name": "stdout",
     "output_type": "stream",
     "text": [
      "Performing stepwise search to minimize aic\n",
      " ARIMA(2,0,2)(0,0,0)[0] intercept   : AIC=9.119, Time=0.39 sec\n",
      " ARIMA(0,0,0)(0,0,0)[0] intercept   : AIC=19.463, Time=0.02 sec\n",
      " ARIMA(1,0,0)(0,0,0)[0] intercept   : AIC=6.192, Time=0.03 sec\n",
      " ARIMA(0,0,1)(0,0,0)[0] intercept   : AIC=9.237, Time=0.04 sec\n",
      " ARIMA(0,0,0)(0,0,0)[0]             : AIC=154.847, Time=0.01 sec\n",
      " ARIMA(2,0,0)(0,0,0)[0] intercept   : AIC=8.154, Time=0.12 sec\n",
      " ARIMA(1,0,1)(0,0,0)[0] intercept   : AIC=8.148, Time=0.14 sec\n",
      " ARIMA(2,0,1)(0,0,0)[0] intercept   : AIC=10.192, Time=0.16 sec\n",
      " ARIMA(1,0,0)(0,0,0)[0]             : AIC=inf, Time=0.03 sec\n",
      "\n",
      "Best model:  ARIMA(1,0,0)(0,0,0)[0] intercept\n",
      "Total fit time: 0.957 seconds\n"
     ]
    }
   ],
   "source": [
    "#stepwise_fit = auto_arima(df[name], trace=True, suppress_warnings=True)\n",
    "stepwise_fit = auto_arima(df_guatemala['guatemala'], trace=True, suppress_warnings=True)\n",
    "\n",
    "p = stepwise_fit.order[0]\n",
    "d = stepwise_fit.order[1]\n",
    "q = stepwise_fit.order[2]\n",
    "split_point = int(len(df_guatemala) * 0.75)\n",
    "train = df_guatemala.iloc[:split_point]\n",
    "test = df_guatemala.iloc[split_point:]\n",
    "model = ARIMA(df_guatemala['guatemala'],order=(p,d,q))\n",
    "guatemala_model = model.fit()\n",
    "start=len(train)\n",
    "end = len(train)+len(test)-1\n",
    "pred=guatemala_model.predict(start=start,end=end,typ='levels')\n",
    "\n",
    "pickle.dump(guatemala_model, open('guatemala_models','wb'))"
   ]
  },
  {
   "cell_type": "code",
   "execution_count": 10,
   "metadata": {},
   "outputs": [
    {
     "name": "stdout",
     "output_type": "stream",
     "text": [
      "Performing stepwise search to minimize aic\n",
      " ARIMA(2,1,2)(0,0,0)[0] intercept   : AIC=inf, Time=0.34 sec\n",
      " ARIMA(0,1,0)(0,0,0)[0] intercept   : AIC=106.502, Time=0.01 sec\n",
      " ARIMA(1,1,0)(0,0,0)[0] intercept   : AIC=104.826, Time=0.03 sec\n",
      " ARIMA(0,1,1)(0,0,0)[0] intercept   : AIC=103.682, Time=0.04 sec\n",
      " ARIMA(0,1,0)(0,0,0)[0]             : AIC=104.714, Time=0.01 sec\n",
      " ARIMA(1,1,1)(0,0,0)[0] intercept   : AIC=inf, Time=0.14 sec\n",
      " ARIMA(0,1,2)(0,0,0)[0] intercept   : AIC=104.544, Time=0.08 sec\n",
      " ARIMA(1,1,2)(0,0,0)[0] intercept   : AIC=inf, Time=0.29 sec\n",
      " ARIMA(0,1,1)(0,0,0)[0]             : AIC=103.091, Time=0.03 sec\n",
      " ARIMA(1,1,1)(0,0,0)[0]             : AIC=104.586, Time=0.04 sec\n",
      " ARIMA(0,1,2)(0,0,0)[0]             : AIC=104.713, Time=0.04 sec\n",
      " ARIMA(1,1,0)(0,0,0)[0]             : AIC=103.615, Time=0.02 sec\n",
      " ARIMA(1,1,2)(0,0,0)[0]             : AIC=106.586, Time=0.11 sec\n",
      "\n",
      "Best model:  ARIMA(0,1,1)(0,0,0)[0]          \n",
      "Total fit time: 1.178 seconds\n"
     ]
    }
   ],
   "source": [
    "#stepwise_fit = auto_arima(df[name], trace=True, suppress_warnings=True)\n",
    "stepwise_fit = auto_arima(df_honduras['honduras'], trace=True, suppress_warnings=True)\n",
    "\n",
    "p = stepwise_fit.order[0]\n",
    "d = stepwise_fit.order[1]\n",
    "q = stepwise_fit.order[2]\n",
    "split_point = int(len(df_honduras) * 0.75)\n",
    "train = df_honduras.iloc[:split_point]\n",
    "test = df_honduras.iloc[split_point:]\n",
    "model = ARIMA(df_honduras['honduras'],order=(p,d,q))\n",
    "honduras_model = model.fit()\n",
    "start=len(train)\n",
    "end = len(train)+len(test)-1\n",
    "pred=honduras_model.predict(start=start,end=end,typ='levels')\n",
    "\n",
    "pickle.dump(honduras_model, open('honduras_models','wb'))"
   ]
  },
  {
   "cell_type": "code",
   "execution_count": 11,
   "metadata": {},
   "outputs": [
    {
     "name": "stdout",
     "output_type": "stream",
     "text": [
      "Performing stepwise search to minimize aic\n",
      " ARIMA(2,0,2)(0,0,0)[0] intercept   : AIC=72.626, Time=0.36 sec\n",
      " ARIMA(0,0,0)(0,0,0)[0] intercept   : AIC=90.854, Time=0.03 sec\n",
      " ARIMA(1,0,0)(0,0,0)[0] intercept   : AIC=74.165, Time=0.04 sec\n",
      " ARIMA(0,0,1)(0,0,0)[0] intercept   : AIC=72.019, Time=0.05 sec\n",
      " ARIMA(0,0,0)(0,0,0)[0]             : AIC=178.195, Time=0.01 sec\n",
      " ARIMA(1,0,1)(0,0,0)[0] intercept   : AIC=72.870, Time=0.06 sec\n",
      " ARIMA(0,0,2)(0,0,0)[0] intercept   : AIC=74.003, Time=0.07 sec\n",
      " ARIMA(1,0,2)(0,0,0)[0] intercept   : AIC=74.864, Time=0.11 sec\n",
      " ARIMA(0,0,1)(0,0,0)[0]             : AIC=inf, Time=0.07 sec\n",
      "\n",
      "Best model:  ARIMA(0,0,1)(0,0,0)[0] intercept\n",
      "Total fit time: 0.795 seconds\n"
     ]
    }
   ],
   "source": [
    "#stepwise_fit = auto_arima(df[name], trace=True, suppress_warnings=True)\n",
    "stepwise_fit = auto_arima(df_mexico['mexico'], trace=True, suppress_warnings=True)\n",
    "\n",
    "p = stepwise_fit.order[0]\n",
    "d = stepwise_fit.order[1]\n",
    "q = stepwise_fit.order[2]\n",
    "split_point = int(len(df_mexico) * 0.75)\n",
    "train = df_mexico.iloc[:split_point]\n",
    "test = df_mexico.iloc[split_point:]\n",
    "model = ARIMA(df_mexico['mexico'],order=(p,d,q))\n",
    "mexico_model = model.fit()\n",
    "start=len(train)\n",
    "end = len(train)+len(test)-1\n",
    "pred=mexico_model.predict(start=start,end=end,typ='levels')\n",
    "\n",
    "pickle.dump(mexico_model, open('mexico_models','wb'))"
   ]
  },
  {
   "cell_type": "code",
   "execution_count": 12,
   "metadata": {},
   "outputs": [
    {
     "name": "stdout",
     "output_type": "stream",
     "text": [
      "Performing stepwise search to minimize aic\n",
      " ARIMA(2,0,2)(0,0,0)[0] intercept   : AIC=106.825, Time=0.15 sec\n",
      " ARIMA(0,0,0)(0,0,0)[0] intercept   : AIC=154.643, Time=0.01 sec\n",
      " ARIMA(1,0,0)(0,0,0)[0] intercept   : AIC=108.819, Time=0.03 sec\n",
      " ARIMA(0,0,1)(0,0,0)[0] intercept   : AIC=126.258, Time=0.04 sec\n",
      " ARIMA(0,0,0)(0,0,0)[0]             : AIC=233.739, Time=0.02 sec\n",
      " ARIMA(1,0,2)(0,0,0)[0] intercept   : AIC=104.914, Time=0.11 sec\n",
      " ARIMA(0,0,2)(0,0,0)[0] intercept   : AIC=inf, Time=0.08 sec\n",
      " ARIMA(1,0,1)(0,0,0)[0] intercept   : AIC=103.916, Time=0.06 sec\n",
      " ARIMA(2,0,1)(0,0,0)[0] intercept   : AIC=104.830, Time=0.07 sec\n",
      " ARIMA(2,0,0)(0,0,0)[0] intercept   : AIC=103.005, Time=0.06 sec\n",
      " ARIMA(3,0,0)(0,0,0)[0] intercept   : AIC=104.837, Time=0.10 sec\n",
      " ARIMA(3,0,1)(0,0,0)[0] intercept   : AIC=106.829, Time=0.18 sec\n",
      " ARIMA(2,0,0)(0,0,0)[0]             : AIC=108.288, Time=0.04 sec\n",
      "\n",
      "Best model:  ARIMA(2,0,0)(0,0,0)[0] intercept\n",
      "Total fit time: 0.952 seconds\n"
     ]
    }
   ],
   "source": [
    "#stepwise_fit = auto_arima(df[name], trace=True, suppress_warnings=True)\n",
    "stepwise_fit = auto_arima(df_uruguay['uruguay'], trace=True, suppress_warnings=True)\n",
    "\n",
    "p = stepwise_fit.order[0]\n",
    "d = stepwise_fit.order[1]\n",
    "q = stepwise_fit.order[2]\n",
    "split_point = int(len(df_uruguay) * 0.75)\n",
    "train = df_uruguay.iloc[:split_point]\n",
    "test = df_uruguay.iloc[split_point:]\n",
    "model = ARIMA(df_uruguay['uruguay'],order=(p,d,q))\n",
    "uruguay_model = model.fit()\n",
    "start=len(train)\n",
    "end = len(train)+len(test)-1\n",
    "pred=uruguay_model.predict(start=start,end=end,typ='levels')\n",
    "\n",
    "pickle.dump(uruguay_model, open('uruguay_models','wb'))"
   ]
  }
 ],
 "metadata": {
  "kernelspec": {
   "display_name": "Python 3",
   "language": "python",
   "name": "python3"
  },
  "language_info": {
   "codemirror_mode": {
    "name": "ipython",
    "version": 3
   },
   "file_extension": ".py",
   "mimetype": "text/x-python",
   "name": "python",
   "nbconvert_exporter": "python",
   "pygments_lexer": "ipython3",
   "version": "3.10.9"
  },
  "orig_nbformat": 4
 },
 "nbformat": 4,
 "nbformat_minor": 2
}
