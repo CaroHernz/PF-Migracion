{
 "cells": [
  {
   "attachments": {},
   "cell_type": "markdown",
   "metadata": {},
   "source": [
    "### <p align=center> **ETL Y LIMPIEZA DE LOS DATASET RAW** <p>"
   ]
  },
  {
   "attachments": {},
   "cell_type": "markdown",
   "metadata": {},
   "source": [
    "### **CONVERTIR A FORMATO MINUSCULAS LAS TABLAS Y LOS DATOS STRING (Normalizacion)**"
   ]
  },
  {
   "cell_type": "code",
   "execution_count": 262,
   "metadata": {},
   "outputs": [
    {
     "name": "stderr",
     "output_type": "stream",
     "text": [
      "C:\\Users\\user\\AppData\\Local\\Temp\\ipykernel_11616\\2029224156.py:17: DtypeWarning: Columns (4,12,13,14,15,16,17,18,19,20,21,22,24,25,26,27,28,29,30,31,32,33,34,35,36,37,38,39,40,41,42,43,44,45,46,47,48,49,50,51,52,53,54,55,56,57,58,59,60,61,62,63,64,65) have mixed types. Specify dtype option on import or set low_memory=False.\n",
      "  df = pd.read_csv(filepath, index_col=0)\n"
     ]
    }
   ],
   "source": [
    "# En este caso seria bueno aplicar esta praxis de poner todo en minuscula ya que python es un lenguaje \"case sensitive\" asi que una vez revisado y para facilitar el manejo de datos.  \n",
    "\n",
    "# En este caso tambien se elimina las columnas que son indices.\n",
    "\n",
    "import os\n",
    "import pandas as pd\n",
    "\n",
    "# Establecer el directorio que contiene los archivos CSV\n",
    "directory = \"Dataset\"\n",
    "save_directory = \"dataset_ETL\"\n",
    "\n",
    "# Recorrer cada archivo CSV del directorio\n",
    "for filename in os.listdir(directory):\n",
    "    if filename.endswith(\".csv\"):\n",
    "        # Cargar el archivo CSV en un DataFrame\n",
    "        filepath = os.path.join(directory, filename)\n",
    "        df = pd.read_csv(filepath, index_col=0)\n",
    "        \n",
    "        # Convierte los nombres de las columnas a minúsculas\n",
    "        df.columns = df.columns.str.lower()\n",
    "        \n",
    "        # Convierte los datos de cadena a minúsculas\n",
    "        df = df.applymap(lambda s:s.lower() if type(s) == str else s)\n",
    "        \n",
    "        # Create a new file path to save the modified DataFrame\n",
    "        save_path = os.path.join(save_directory, filename)\n",
    "        \n",
    "        # Guardar el DataFrame actualizado de nuevo en el archivo CSV\n",
    "        df.to_csv(save_path, index=False)\n",
    "\n"
   ]
  },
  {
   "attachments": {},
   "cell_type": "markdown",
   "metadata": {},
   "source": [
    "### <p align=center> **ETL : Limpieza Basica** <p>"
   ]
  },
  {
   "attachments": {},
   "cell_type": "markdown",
   "metadata": {},
   "source": [
    "#### **Analisaremos a fondo los datasets \"Demographic_Indicators\" y \"Economy_Complete\" ya que son los que tienen mas informacion y vana servir como punto de union para todos los datasetsa**"
   ]
  },
  {
   "attachments": {},
   "cell_type": "markdown",
   "metadata": {},
   "source": [
    "### **Cargamos los datasets**"
   ]
  },
  {
   "cell_type": "code",
   "execution_count": 263,
   "metadata": {},
   "outputs": [
    {
     "name": "stderr",
     "output_type": "stream",
     "text": [
      "C:\\Users\\user\\AppData\\Local\\Temp\\ipykernel_11616\\4077865243.py:1: DtypeWarning: Columns (3,11,12,13,14,15,16,17,18,19,20,21,23,24,25,26,27,28,29,30,31,32,33,34,35,36,37,38,39,40,41,42,43,44,45,46,47,48,49,50,51,52,53,54,55,56,57,58,59,60,61,62,63,64) have mixed types. Specify dtype option on import or set low_memory=False.\n",
      "  Demographic_Indicators = pd.read_csv(\"dataset_ETL\\Demographic_Indicators.csv\")\n"
     ]
    }
   ],
   "source": [
    "Demographic_Indicators = pd.read_csv(\"datasets\\Demographic_Indicators.csv\")\n",
    "Economy_Complete = pd.read_csv(\"datasets\\Economy_Complete.csv\")\n",
    "Environment_Electricity_Sanitation = pd.read_csv(\"datasets\\Environment_Electricity-Sanitation.csv\")\n",
    "Environment_Population_Density = pd.read_csv(\"datasets\\Environment_Population-Density.csv\")\n",
    "People_Complete = pd.read_csv(\"datasets\\People_Complete.csv\")\n",
    "Poverty_Maternal_Mortality = pd.read_csv(\"datasets\\Poverty_Maternal-Mortality.csv\")\n",
    "Refugee_origin_asylum = pd.read_csv(\"datasets\\Refugee-origin-asylum.csv\")\n",
    "States_GDP_percapita = pd.read_csv(\"datasets\\States_GDP-percapita.csv\")\n",
    "States_Mobile_Population_Research_Labor = pd.read_csv(\"datasets\\States_Mobile-Population-Research-Labor.csv\")\n",
    "\n",
    "# Esto no era necesario pude nombrarlos dfn de frente pero para que no haya confusiones \n",
    "\n",
    "df1 = Demographic_Indicators\n",
    "df2 = Economy_Complete\n",
    "df3 = Environment_Electricity_Sanitation\n",
    "df4 = Environment_Population_Density \n",
    "df5 = People_Complete\n",
    "df6 = Poverty_Maternal_Mortality\n",
    "df7 = Refugee_origin_asylum\n",
    "df8 = States_GDP_percapita\n",
    "df9 = States_Mobile_Population_Research_Labor"
   ]
  },
  {
   "attachments": {},
   "cell_type": "markdown",
   "metadata": {},
   "source": [
    "### **Eliminamos Columnas que apriori son Irrelevantes o Redundantes**"
   ]
  },
  {
   "attachments": {},
   "cell_type": "markdown",
   "metadata": {},
   "source": [
    "#### <p align=center> **Demographic_Indicators Dataset** <p>"
   ]
  },
  {
   "cell_type": "code",
   "execution_count": 264,
   "metadata": {},
   "outputs": [
    {
     "name": "stdout",
     "output_type": "stream",
     "text": [
      "       index    variant region, subregion, country or area * notes  \\\n",
      "0          1  estimates                                world   NaN   \n",
      "1          2  estimates                                world   NaN   \n",
      "2          3  estimates                                world   NaN   \n",
      "3          4  estimates                                world   NaN   \n",
      "4          5  estimates                                world   NaN   \n",
      "...      ...        ...                                  ...   ...   \n",
      "20591  20592  estimates            wallis and futuna islands   2.0   \n",
      "20592  20593  estimates            wallis and futuna islands   2.0   \n",
      "20593  20594  estimates            wallis and futuna islands   2.0   \n",
      "20594  20595  estimates            wallis and futuna islands   2.0   \n",
      "20595  20596  estimates            wallis and futuna islands   2.0   \n",
      "\n",
      "       location code iso3 alpha-code iso2 alpha-code  sdmx code**  \\\n",
      "0                900             NaN             NaN          1.0   \n",
      "1                900             NaN             NaN          1.0   \n",
      "2                900             NaN             NaN          1.0   \n",
      "3                900             NaN             NaN          1.0   \n",
      "4                900             NaN             NaN          1.0   \n",
      "...              ...             ...             ...          ...   \n",
      "20591            876             wlf              wf        876.0   \n",
      "20592            876             wlf              wf        876.0   \n",
      "20593            876             wlf              wf        876.0   \n",
      "20594            876             wlf              wf        876.0   \n",
      "20595            876             wlf              wf        876.0   \n",
      "\n",
      "               type  parent code  ...  \\\n",
      "0             world            0  ...   \n",
      "1             world            0  ...   \n",
      "2             world            0  ...   \n",
      "3             world            0  ...   \n",
      "4             world            0  ...   \n",
      "...             ...          ...  ...   \n",
      "20591  country/area          957  ...   \n",
      "20592  country/area          957  ...   \n",
      "20593  country/area          957  ...   \n",
      "20594  country/area          957  ...   \n",
      "20595  country/area          957  ...   \n",
      "\n",
      "       male mortality before age 60 (deaths under age 60 per 1,000 male live births)  \\\n",
      "0                                                 580.75                               \n",
      "1                                                566.728                               \n",
      "2                                                546.317                               \n",
      "3                                                535.829                               \n",
      "4                                                523.124                               \n",
      "...                                                  ...                               \n",
      "20591                                             92.066                               \n",
      "20592                                             99.196                               \n",
      "20593                                             77.781                               \n",
      "20594                                             85.608                               \n",
      "20595                                             89.321                               \n",
      "\n",
      "      female mortality before age 60 (deaths under age 60 per 1,000 female live births)  \\\n",
      "0                                                 498.04                                  \n",
      "1                                                490.199                                  \n",
      "2                                                477.264                                  \n",
      "3                                                469.532                                  \n",
      "4                                                458.484                                  \n",
      "...                                                  ...                                  \n",
      "20591                                            102.718                                  \n",
      "20592                                             89.345                                  \n",
      "20593                                             80.136                                  \n",
      "20594                                             86.364                                  \n",
      "20595                                              84.68                                  \n",
      "\n",
      "      mortality between age 15 and 50, both sexes (deaths under age 50 per 1,000 alive at age 15)  \\\n",
      "0                                                240.316                                            \n",
      "1                                                231.177                                            \n",
      "2                                                218.674                                            \n",
      "3                                                212.872                                            \n",
      "4                                                205.762                                            \n",
      "...                                                  ...                                            \n",
      "20591                                             30.643                                            \n",
      "20592                                             29.201                                            \n",
      "20593                                             24.304                                            \n",
      "20594                                             26.572                                            \n",
      "20595                                             25.848                                            \n",
      "\n",
      "      male mortality between age 15 and 50 (deaths under age 50 per 1,000 males alive at age 15)  \\\n",
      "0                                                271.625                                           \n",
      "1                                                 258.09                                           \n",
      "2                                                240.034                                           \n",
      "3                                                232.602                                           \n",
      "4                                                 224.05                                           \n",
      "...                                                  ...                                           \n",
      "20591                                             26.781                                           \n",
      "20592                                             29.159                                           \n",
      "20593                                             22.291                                           \n",
      "20594                                             24.691                                           \n",
      "20595                                             24.836                                           \n",
      "\n",
      "      female mortality between age 15 and 50 (deaths under age 50 per 1,000 females alive at age 15)  \\\n",
      "0                                                208.192                                               \n",
      "1                                                 203.78                                               \n",
      "2                                                197.142                                               \n",
      "3                                                193.049                                               \n",
      "4                                                187.444                                               \n",
      "...                                                  ...                                               \n",
      "20591                                             33.892                                               \n",
      "20592                                              29.17                                               \n",
      "20593                                             25.981                                               \n",
      "20594                                             28.127                                               \n",
      "20595                                             26.644                                               \n",
      "\n",
      "      mortality between age 15 and 60, both sexes (deaths under age 60 per 1,000 alive at age 15)  \\\n",
      "0                                                378.697                                            \n",
      "1                                                368.319                                            \n",
      "2                                                353.055                                            \n",
      "3                                                345.083                                            \n",
      "4                                                335.442                                            \n",
      "...                                                  ...                                            \n",
      "20591                                             82.852                                            \n",
      "20592                                             79.633                                            \n",
      "20593                                             66.639                                            \n",
      "20594                                              72.73                                            \n",
      "20595                                             74.207                                            \n",
      "\n",
      "      male mortality between age 15 and 60 (deaths under age 60 per 1,000 males alive at age 15)  \\\n",
      "0                                                430.259                                           \n",
      "1                                                415.836                                           \n",
      "2                                                395.533                                           \n",
      "3                                                385.843                                           \n",
      "4                                                374.658                                           \n",
      "...                                                  ...                                           \n",
      "20591                                             82.197                                           \n",
      "20592                                             88.556                                           \n",
      "20593                                             69.324                                           \n",
      "20594                                             76.411                                           \n",
      "20595                                             80.373                                           \n",
      "\n",
      "      female mortality between age 15 and 60 (deaths under age 60 per 1,000 females alive at age 15)  \\\n",
      "0                                                324.931                                               \n",
      "1                                                319.336                                               \n",
      "2                                                 309.91                                               \n",
      "3                                                303.905                                               \n",
      "4                                                295.994                                               \n",
      "...                                                  ...                                               \n",
      "20591                                              83.32                                               \n",
      "20592                                             72.163                                               \n",
      "20593                                             64.496                                               \n",
      "20594                                             69.685                                               \n",
      "20595                                             68.905                                               \n",
      "\n",
      "      net number of migrants (thousands)  \\\n",
      "0                                      0   \n",
      "1                                      0   \n",
      "2                                      0   \n",
      "3                                      0   \n",
      "4                                      0   \n",
      "...                                  ...   \n",
      "20591                             -0.201   \n",
      "20592                             -0.171   \n",
      "20593                             -0.171   \n",
      "20594                             -0.083   \n",
      "20595                             -0.083   \n",
      "\n",
      "      net migration rate (per 1,000 population)  \n",
      "0                                             0  \n",
      "1                                             0  \n",
      "2                                             0  \n",
      "3                                             0  \n",
      "4                                             0  \n",
      "...                                         ...  \n",
      "20591                                   -16.706  \n",
      "20592                                   -14.368  \n",
      "20593                                   -14.489  \n",
      "20594                                    -7.096  \n",
      "20595                                    -7.112  \n",
      "\n",
      "[20596 rows x 65 columns]\n"
     ]
    }
   ],
   "source": [
    "# Esto es una representacion , el analisis se hizo viendo y analizando el csv \n",
    "print(df1)"
   ]
  },
  {
   "attachments": {},
   "cell_type": "markdown",
   "metadata": {},
   "source": [
    "**Eliminamos la columna \"index\"**"
   ]
  },
  {
   "cell_type": "code",
   "execution_count": 265,
   "metadata": {},
   "outputs": [],
   "source": [
    "df1.drop('index', axis=1, inplace=True)"
   ]
  },
  {
   "attachments": {},
   "cell_type": "markdown",
   "metadata": {},
   "source": [
    "**Analizamos la columna \"variant\"**"
   ]
  },
  {
   "cell_type": "code",
   "execution_count": 266,
   "metadata": {},
   "outputs": [
    {
     "name": "stdout",
     "output_type": "stream",
     "text": [
      "estimates\n"
     ]
    }
   ],
   "source": [
    "# Analizamos los datos de la columna para ver si pueden ser de utilidad\n",
    "counts = df1['variant'].value_counts()\n",
    "\n",
    "# Imprimimos los valores unicos\n",
    "for value in counts.index:\n",
    "    print(value)"
   ]
  },
  {
   "cell_type": "code",
   "execution_count": 267,
   "metadata": {},
   "outputs": [],
   "source": [
    "# La columna 'variant' solo tiene como unico valor a 'estimates' , El término \"estimates\" se utiliza a menudo para describir los datos de población que se han calculado basándose en las tendencias pasadas de fecundidad, mortalidad y migración. PROCEDEREMOS A ELIMINAR LA COLUMNA 'VARIANT'\n",
    "df1.drop('variant', axis=1, inplace=True)"
   ]
  },
  {
   "attachments": {},
   "cell_type": "markdown",
   "metadata": {},
   "source": [
    "**Analizamos la columna \"notes\"**"
   ]
  },
  {
   "cell_type": "code",
   "execution_count": 268,
   "metadata": {},
   "outputs": [
    {
     "name": "stdout",
     "output_type": "stream",
     "text": [
      "19.0\n",
      "2.0\n",
      "29.0\n",
      "j\n",
      "28.0\n",
      "35.0\n",
      "17.0\n",
      "2\n",
      "30.0\n",
      "31.0\n",
      "32.0\n",
      "27.0\n",
      "15.0\n",
      "26.0\n",
      "25.0\n",
      "24.0\n",
      "23.0\n",
      "22.0\n",
      "21.0\n",
      "20.0\n",
      "33.0\n",
      "18.0\n",
      "34.0\n",
      "16.0\n",
      "13.0\n",
      "14.0\n",
      "4\n",
      "d\n",
      "e\n",
      "f\n",
      "g\n",
      "h\n",
      "i\n",
      "1\n",
      "b\n",
      "3\n",
      "5\n",
      "6\n",
      "7\n",
      "8\n",
      "9.0\n",
      "10.0\n",
      "11.0\n",
      "12.0\n",
      "k\n",
      "c\n",
      "a\n"
     ]
    }
   ],
   "source": [
    "# Analizamos los datos de la columna para ver si pueden ser de utilidad\n",
    "counts = df1['notes'].value_counts()\n",
    "\n",
    "# Imprimimos los valores unicos\n",
    "for value in counts.index:\n",
    "    print(value)"
   ]
  },
  {
   "cell_type": "code",
   "execution_count": 269,
   "metadata": {},
   "outputs": [],
   "source": [
    "# Vemos los datos y parecen puestos de forma aleatoria ,o bajo un criterio especifico del cual no seria practico considerar, aparte que viendo los datos no se pudo encontrar referencia , PROCEDEREMOS A ELIMINAR ESTA COLUMNA 'NOTES'\n",
    "df1.drop('notes', axis=1, inplace=True)"
   ]
  },
  {
   "attachments": {},
   "cell_type": "markdown",
   "metadata": {},
   "source": [
    "**Analizamos la columna \"location code\" , \"sdmx code\" , \"parent code\" and \"type\"**"
   ]
  },
  {
   "cell_type": "code",
   "execution_count": 270,
   "metadata": {},
   "outputs": [
    {
     "name": "stdout",
     "output_type": "stream",
     "text": [
      "country/area\n",
      "subregion\n",
      "sdg region\n",
      "income group\n",
      "region\n",
      "development group\n",
      "special other\n",
      "world\n",
      "label/separator\n"
     ]
    }
   ],
   "source": [
    "# Vemos que las columnas \"location code\" , \"sdmx code\" y \"parent code\" hacen alusion a codigos unicos especificos de origen geografico , en este caso cogimos a estos 3 en conjunto con la columna \"type\" porque estos cambian de acuerdo al valor de \"type\" , la columna \"parent code\" hace referencia a un codigo de area parecido a uno regional  osea que varios paises pueden tener un mismo \"parental code\" , y tambien el valor de \"location code\" puede variar ya que \"type\" tiene los siguientes valores :\n",
    "\n",
    "#imprimir valores unicos de columnas\n",
    "counts = df1['type'].value_counts()\n",
    "\n",
    "# print the unique values\n",
    "for value in counts.index:\n",
    "    print(value)\n"
   ]
  },
  {
   "cell_type": "code",
   "execution_count": 271,
   "metadata": {},
   "outputs": [],
   "source": [
    "df1.drop('location code', axis=1, inplace=True)\n",
    "df1.drop('sdmx code**', axis=1, inplace=True)\n",
    "df1.drop('parent code', axis=1, inplace=True)\n"
   ]
  },
  {
   "attachments": {},
   "cell_type": "markdown",
   "metadata": {},
   "source": [
    "**Analizamos la columna \"iso3 alpha-code\" y \"iso2 alpha-code\"**"
   ]
  },
  {
   "cell_type": "code",
   "execution_count": 272,
   "metadata": {},
   "outputs": [],
   "source": [
    "# Vemos que la columna \"iso3 alpha-code\" contiene como valores unicos para cada pais un codigo de letras de 3 cifras mientras que \"iso2 alpha-code\" de 2 cifras , seria recomendable quedarse con \"iso3 alpha-code\" debido a que estos codigos de 3 cifras se repiten y aparecen en los otros datasets lo cual seria ideal si despues se quiere juntar los datasets para analisis mas complejo o para el modelo de maching learning , PROCEDEMOS A ELIMINAR LA COLUMNA 'ISO ALPHA-CODE' \n",
    "df1.drop('iso2 alpha-code', axis=1, inplace=True)"
   ]
  },
  {
   "attachments": {},
   "cell_type": "markdown",
   "metadata": {},
   "source": [
    "**Analizamos la Filas que tengan en la columna \"type\" el valor de \"label/separator\"**"
   ]
  },
  {
   "cell_type": "code",
   "execution_count": 273,
   "metadata": {},
   "outputs": [],
   "source": [
    "# Vemos que estas filas estan con el unico proposito de servir de separador para alguien que revise las tablas , nosera necesario porque mas adelante este proceso se automatizara , PROCEDEMOS A ELIMINAR LAS FILAS CON VALOR 'LABEL/SEPARATOR' EN LA COLUMNA 'TYPE'\n",
    "df1 = df1[df1['type'] != 'label/separator']"
   ]
  },
  {
   "attachments": {},
   "cell_type": "markdown",
   "metadata": {},
   "source": [
    "#### <p align=center> **Economy_Complete Dataset** <p>"
   ]
  },
  {
   "cell_type": "code",
   "execution_count": 274,
   "metadata": {},
   "outputs": [
    {
     "name": "stdout",
     "output_type": "stream",
     "text": [
      "     economy    time                 country  time.1  \\\n",
      "0        zwe  yr2021                zimbabwe    2021   \n",
      "1        zwe  yr2020                zimbabwe    2020   \n",
      "2        zwe  yr2019                zimbabwe    2019   \n",
      "3        zwe  yr2018                zimbabwe    2018   \n",
      "4        zwe  yr2017                zimbabwe    2017   \n",
      "...      ...     ...                     ...     ...   \n",
      "5733     vgb  yr2002  british virgin islands    2002   \n",
      "5734     vgb  yr2001  british virgin islands    2001   \n",
      "5735     vgb  yr2000  british virgin islands    2000   \n",
      "5736     afg  yr2001             afghanistan    2001   \n",
      "5737     afg  yr2000             afghanistan    2000   \n",
      "\n",
      "      foreign direct investment, net inflows (bop, current us$)  \\\n",
      "0                                          1.660000e+08           \n",
      "1                                          1.503600e+08           \n",
      "2                                          2.495000e+08           \n",
      "3                                          7.178653e+08           \n",
      "4                                          3.071877e+08           \n",
      "...                                                 ...           \n",
      "5733                                       5.451882e+09           \n",
      "5734                                       3.791260e+09           \n",
      "5735                                       8.073327e+09           \n",
      "5736                                       6.800000e+05           \n",
      "5737                                       1.700000e+05           \n",
      "\n",
      "      total reserves (gold + us$)  consumer price  \\\n",
      "0                    8.387802e+08     5411.002445   \n",
      "1                    3.340502e+07     2725.312815   \n",
      "2                    1.512405e+08      414.684309   \n",
      "3                    8.695109e+07      116.712211   \n",
      "4                    2.926212e+08      105.508414   \n",
      "...                           ...             ...   \n",
      "5733                          NaN             NaN   \n",
      "5734                          NaN             NaN   \n",
      "5735                          NaN             NaN   \n",
      "5736                          NaN             NaN   \n",
      "5737                          NaN             NaN   \n",
      "\n",
      "      time required to start a business (days)  \\\n",
      "0                                          NaN   \n",
      "1                                          NaN   \n",
      "2                                         27.0   \n",
      "3                                         32.0   \n",
      "4                                         61.0   \n",
      "...                                        ...   \n",
      "5733                                       NaN   \n",
      "5734                                       NaN   \n",
      "5735                                       NaN   \n",
      "5736                                       NaN   \n",
      "5737                                       NaN   \n",
      "\n",
      "      total tax and contribution rate (pct of profit)  \\\n",
      "0                                                 NaN   \n",
      "1                                                 NaN   \n",
      "2                                                31.6   \n",
      "3                                                31.6   \n",
      "4                                                31.6   \n",
      "...                                               ...   \n",
      "5733                                              NaN   \n",
      "5734                                              NaN   \n",
      "5735                                              NaN   \n",
      "5736                                              NaN   \n",
      "5737                                              NaN   \n",
      "\n",
      "      final consumption expenditure  \\\n",
      "0                         14.261391   \n",
      "1                         -4.540536   \n",
      "2                        -10.119249   \n",
      "3                         -0.462873   \n",
      "4                          3.920652   \n",
      "...                             ...   \n",
      "5733                            NaN   \n",
      "5734                            NaN   \n",
      "5735                            NaN   \n",
      "5736                            NaN   \n",
      "5737                            NaN   \n",
      "\n",
      "      exports of goods and services (pct of gdp)  \\\n",
      "0                                      25.411446   \n",
      "1                                      25.917014   \n",
      "2                                      27.163459   \n",
      "3                                      26.163973   \n",
      "4                                      19.658905   \n",
      "...                                          ...   \n",
      "5733                                         NaN   \n",
      "5734                                         NaN   \n",
      "5735                                         NaN   \n",
      "5736                                         NaN   \n",
      "5737                                         NaN   \n",
      "\n",
      "      imports of goods and services (pct of gdp)  gross domestic product  \\\n",
      "0                                      30.901234            2.837124e+10   \n",
      "1                                      28.733547            2.150970e+10   \n",
      "2                                      25.524111            2.183223e+10   \n",
      "3                                      28.386297            3.415607e+10   \n",
      "4                                      30.370807            1.758489e+10   \n",
      "...                                          ...                     ...   \n",
      "5733                                         NaN                     NaN   \n",
      "5734                                         NaN                     NaN   \n",
      "5735                                         NaN                     NaN   \n",
      "5736                                         NaN                     NaN   \n",
      "5737                                         NaN                     NaN   \n",
      "\n",
      "      gdp growth  gni per capita  gross savings  \n",
      "0       8.468017          1530.0            NaN  \n",
      "1      -7.816951          1460.0      16.452763  \n",
      "2      -6.332446          1450.0      20.231198  \n",
      "3       5.009867          1550.0      13.923906  \n",
      "4       4.080264          1170.0      -2.682417  \n",
      "...          ...             ...            ...  \n",
      "5733         NaN             NaN            NaN  \n",
      "5734         NaN             NaN            NaN  \n",
      "5735         NaN             NaN            NaN  \n",
      "5736         NaN             NaN            NaN  \n",
      "5737         NaN             NaN            NaN  \n",
      "\n",
      "[5738 rows x 16 columns]\n"
     ]
    }
   ],
   "source": [
    "# Esto es una representacion , el analisis se hizo viendo y analizando el csv \n",
    "print(df2)"
   ]
  },
  {
   "attachments": {},
   "cell_type": "markdown",
   "metadata": {},
   "source": [
    "**Analizamos las dos columnas llamadas \"time\"**"
   ]
  },
  {
   "cell_type": "code",
   "execution_count": 275,
   "metadata": {},
   "outputs": [],
   "source": [
    "# Vemos que una de las columnas time es igual que la otra solo que incluye el prefijo \"YR\" antes de cada anio aparte el programa se vio obligado a renombrar a la segunda columna time como time.1, PROCEDEMOS A ELIMINAR ESTA COLUMNA \"TIME\" CON LOS PREFIJOS\n",
    "df2.drop('time', axis=1, inplace=True)"
   ]
  },
  {
   "cell_type": "code",
   "execution_count": 276,
   "metadata": {},
   "outputs": [],
   "source": [
    "# La columna \"country\" no es necesaria en este dataset porque ya lo tenemos en el dataset \"Demographic_Indicators\" para unir los codigos con los nombres , PROCEDEMOS A ELIMINAR LA COLUMNA 'COUNTRY'\n",
    "df2.drop('country', axis=1, inplace=True)"
   ]
  },
  {
   "cell_type": "code",
   "execution_count": 277,
   "metadata": {},
   "outputs": [],
   "source": [
    "# Vemos que la columna \"time.1\" esta mal nombrada , asi que vamos a cambiarle el nombre a \"time\"\n",
    "df2.rename(columns={'time.1': 'year'}, inplace=True)"
   ]
  },
  {
   "cell_type": "code",
   "execution_count": 278,
   "metadata": {},
   "outputs": [],
   "source": [
    "# Cambiamos el nombre a la columna \"economy\" a \"iso3 alpha-code\" \n",
    "df2.rename(columns={'economy': 'iso3 alpha-code'}, inplace=True)"
   ]
  },
  {
   "attachments": {},
   "cell_type": "markdown",
   "metadata": {},
   "source": [
    "#### <p align=center> **Environment_Electricity-Sanitation Dataset** <p>"
   ]
  },
  {
   "cell_type": "code",
   "execution_count": 279,
   "metadata": {},
   "outputs": [
    {
     "name": "stdout",
     "output_type": "stream",
     "text": [
      "     economy    time                    country  time.1  access elect.  \\\n",
      "0        zwe  yr2020                   zimbabwe    2020      52.747669   \n",
      "1        zwe  yr2019                   zimbabwe    2019      46.781475   \n",
      "2        zwe  yr2018                   zimbabwe    2018      45.572647   \n",
      "3        zwe  yr2017                   zimbabwe    2017      44.178635   \n",
      "4        zwe  yr2016                   zimbabwe    2016      42.561729   \n",
      "...      ...     ...                        ...     ...            ...   \n",
      "5518     prk  yr2004  korea, dem. people's rep.    2004            NaN   \n",
      "5519     prk  yr2003  korea, dem. people's rep.    2003            NaN   \n",
      "5520     prk  yr2002  korea, dem. people's rep.    2002            NaN   \n",
      "5521     gnb  yr2001              guinea-bissau    2001            NaN   \n",
      "5522     gnb  yr2000              guinea-bissau    2000            NaN   \n",
      "\n",
      "      basic sanitation  \n",
      "0            41.829436  \n",
      "1            43.223952  \n",
      "2            44.613054  \n",
      "3            45.996743  \n",
      "4            47.375018  \n",
      "...                ...  \n",
      "5518         80.584538  \n",
      "5519         80.584538  \n",
      "5520         80.584538  \n",
      "5521         14.050765  \n",
      "5522         13.092926  \n",
      "\n",
      "[5523 rows x 6 columns]\n"
     ]
    }
   ],
   "source": [
    "# Esto es una representacion , el analisis se hizo viendo y analizando el csv \n",
    "print(df3)"
   ]
  },
  {
   "cell_type": "code",
   "execution_count": 280,
   "metadata": {},
   "outputs": [],
   "source": [
    "# La columna \"country\" no es necesaria en este dataset porque ya lo tenemos en el dataset \"Demographic_Indicators\" para unir los codigos con los nombres , PROCEDEMOS A ELIMINAR LA COLUMNA 'COUNTRY'\n",
    "df3.drop('country', axis=1, inplace=True)"
   ]
  },
  {
   "cell_type": "code",
   "execution_count": 281,
   "metadata": {},
   "outputs": [],
   "source": [
    "# Vemos que una de las columnas time es igual que la otra solo que incluye el prefijo \"YR\" antes de cada anio aparte el programa se vio obligado a renombrar a la segunda columna time como time.1, PROCEDEMOS A ELIMINAR ESTA COLUMNA \"TIME\" CON LOS PREFIJOS\n",
    "df3.drop('time', axis=1, inplace=True)"
   ]
  },
  {
   "cell_type": "code",
   "execution_count": 282,
   "metadata": {},
   "outputs": [],
   "source": [
    "# Vemos que la columna \"time.1\" esta mal nombrada , asi que vamos a cambiarle el nombre a \"time\"\n",
    "df3.rename(columns={'time.1': 'year'}, inplace=True)"
   ]
  },
  {
   "cell_type": "code",
   "execution_count": 283,
   "metadata": {},
   "outputs": [],
   "source": [
    "# Cambiamos el nombre a la columna \"economy\" a \"iso3 alpha-code\"\n",
    "df3.rename(columns={'economy': 'iso3 alpha-code'}, inplace=True)"
   ]
  },
  {
   "attachments": {},
   "cell_type": "markdown",
   "metadata": {},
   "source": [
    "#### <p align=center> **Environment_Population-Density Dataset** <p>"
   ]
  },
  {
   "cell_type": "code",
   "execution_count": 284,
   "metadata": {},
   "outputs": [
    {
     "name": "stdout",
     "output_type": "stream",
     "text": [
      "      country name country code  year      value\n",
      "0       arab world          arb  1961   6.976239\n",
      "1       arab world          arb  1962   7.169853\n",
      "2       arab world          arb  1963   7.370144\n",
      "3       arab world          arb  1964   7.577779\n",
      "4       arab world          arb  1965   7.793214\n",
      "...            ...          ...   ...        ...\n",
      "14334     zimbabwe          zwe  2012  38.027210\n",
      "14335     zimbabwe          zwe  2013  38.915616\n",
      "14336     zimbabwe          zwe  2014  39.838891\n",
      "14337     zimbabwe          zwe  2015  40.784415\n",
      "14338     zimbabwe          zwe  2016  41.748383\n",
      "\n",
      "[14339 rows x 4 columns]\n"
     ]
    }
   ],
   "source": [
    "# Esto es una representacion , el analisis se hizo viendo y analizando el csv \n",
    "print(df4)"
   ]
  },
  {
   "cell_type": "code",
   "execution_count": 285,
   "metadata": {},
   "outputs": [],
   "source": [
    "# La columna \"country name\" no es necesaria en este dataset porque ya lo tenemos en el dataset \"Demographic_Indicators\" para unir los codigos con los nombres , PROCEDEMOS A ELIMINAR LA COLUMNA 'COUNTRY'\n",
    "df4.drop('country name', axis=1, inplace=True)"
   ]
  },
  {
   "cell_type": "code",
   "execution_count": 286,
   "metadata": {},
   "outputs": [],
   "source": [
    "# Cambiamos el nombre a la columna \"country code\" a \"iso3 alpha-code\"\n",
    "df4.rename(columns={'country code': 'iso3 alpha-code'}, inplace=True)"
   ]
  },
  {
   "attachments": {},
   "cell_type": "markdown",
   "metadata": {},
   "source": [
    "#### <p align=center> **People_Complete Dataset** <p>"
   ]
  },
  {
   "cell_type": "code",
   "execution_count": 287,
   "metadata": {},
   "outputs": [
    {
     "name": "stdout",
     "output_type": "stream",
     "text": [
      "     economy    time         country  time.1  \\\n",
      "0        zwe  yr2018        zimbabwe    2018   \n",
      "1        zwe  yr2017        zimbabwe    2017   \n",
      "2        zwe  yr2016        zimbabwe    2016   \n",
      "3        zwe  yr2015        zimbabwe    2015   \n",
      "4        zwe  yr2014        zimbabwe    2014   \n",
      "...      ...     ...             ...     ...   \n",
      "5631     asm  yr2005  american samoa    2005   \n",
      "5632     asm  yr2004  american samoa    2004   \n",
      "5633     asm  yr2003  american samoa    2003   \n",
      "5634     asm  yr2002  american samoa    2002   \n",
      "5635     asm  yr2001  american samoa    2001   \n",
      "\n",
      "      primary completion rate, total (pct of relevant age group)  \\\n",
      "0                                             92.195152            \n",
      "1                                             95.476372            \n",
      "2                                             99.265839            \n",
      "3                                            100.626831            \n",
      "4                                             97.806999            \n",
      "...                                                 ...            \n",
      "5631                                                NaN            \n",
      "5632                                                NaN            \n",
      "5633                                                NaN            \n",
      "5634                                                NaN            \n",
      "5635                                                NaN            \n",
      "\n",
      "      expenditure education  unemployment  \\\n",
      "0                   3.86611         4.796   \n",
      "1                   5.81878         4.785   \n",
      "2                   5.47262         4.788   \n",
      "3                   5.81279         4.778   \n",
      "4                   6.13835         4.770   \n",
      "...                     ...           ...   \n",
      "5631                    NaN           NaN   \n",
      "5632                    NaN           NaN   \n",
      "5633                    NaN           NaN   \n",
      "5634                    NaN           NaN   \n",
      "5635                    NaN           NaN   \n",
      "\n",
      "      intentional homicides (per 100,000 people)  \n",
      "0                                            NaN  \n",
      "1                                            NaN  \n",
      "2                                            NaN  \n",
      "3                                            NaN  \n",
      "4                                            NaN  \n",
      "...                                          ...  \n",
      "5631                                   10.074383  \n",
      "5632                                    6.701964  \n",
      "5633                                    5.042441  \n",
      "5634                                   11.848943  \n",
      "5635                                    1.709519  \n",
      "\n",
      "[5636 rows x 8 columns]\n"
     ]
    }
   ],
   "source": [
    "# Esto es una representacion , el analisis se hizo viendo y analizando el csv \n",
    "print(df5)"
   ]
  },
  {
   "cell_type": "code",
   "execution_count": 288,
   "metadata": {},
   "outputs": [],
   "source": [
    "# La columna \"country\" no es necesaria en este dataset porque ya lo tenemos en el dataset \"Demographic_Indicators\" para unir los codigos con los nombres , PROCEDEMOS A ELIMINAR LA COLUMNA 'COUNTRY'\n",
    "df5.drop('country', axis=1, inplace=True)"
   ]
  },
  {
   "cell_type": "code",
   "execution_count": 289,
   "metadata": {},
   "outputs": [],
   "source": [
    "# Vemos que una de las columnas time es igual que la otra solo que incluye el prefijo \"YR\" antes de cada anio aparte el programa se vio obligado a renombrar a la segunda columna time como time.1, PROCEDEMOS A ELIMINAR ESTA COLUMNA \"TIME\" CON LOS PREFIJOS\n",
    "df5.drop('time', axis=1, inplace=True)"
   ]
  },
  {
   "cell_type": "code",
   "execution_count": 290,
   "metadata": {},
   "outputs": [],
   "source": [
    "# Vemos que la columna \"time.1\" esta mal nombrada , asi que vamos a cambiarle el nombre a \"time\"\n",
    "df5.rename(columns={'time.1': 'year'}, inplace=True)"
   ]
  },
  {
   "cell_type": "code",
   "execution_count": 291,
   "metadata": {},
   "outputs": [],
   "source": [
    "# Cambiamos el nombre a la columna \"economy\" a \"iso3 alpha-code\"\n",
    "df5.rename(columns={'economy': 'iso3 alpha-code'}, inplace=True)"
   ]
  },
  {
   "attachments": {},
   "cell_type": "markdown",
   "metadata": {},
   "source": [
    "#### <p align=center> **Poverty_Maternal-Mortality Dataset** <p>"
   ]
  },
  {
   "cell_type": "code",
   "execution_count": 292,
   "metadata": {},
   "outputs": [
    {
     "name": "stdout",
     "output_type": "stream",
     "text": [
      "     country name country code  year  value\n",
      "0      arab world          arb  1990    289\n",
      "1      arab world          arb  1991    285\n",
      "2      arab world          arb  1992    281\n",
      "3      arab world          arb  1993    278\n",
      "4      arab world          arb  1994    274\n",
      "...           ...          ...   ...    ...\n",
      "5949     zimbabwe          zwe  2011    409\n",
      "5950     zimbabwe          zwe  2012    379\n",
      "5951     zimbabwe          zwe  2013    369\n",
      "5952     zimbabwe          zwe  2014    401\n",
      "5953     zimbabwe          zwe  2015    443\n",
      "\n",
      "[5954 rows x 4 columns]\n"
     ]
    }
   ],
   "source": [
    "# Esto es una representacion , el analisis se hizo viendo y analizando el csv \n",
    "print(df6)"
   ]
  },
  {
   "cell_type": "code",
   "execution_count": 293,
   "metadata": {},
   "outputs": [],
   "source": [
    "# La columna \"country name\" no es necesaria en este dataset porque ya lo tenemos en el dataset \"Demographic_Indicators\" para unir los codigos con los nombres , PROCEDEMOS A ELIMINAR LA COLUMNA 'COUNTRY'\n",
    "df6.drop('country name', axis=1, inplace=True)"
   ]
  },
  {
   "cell_type": "code",
   "execution_count": 294,
   "metadata": {},
   "outputs": [],
   "source": [
    "# Cambiamos el nombre a la columna \"country code\" a \"iso3 alpha-code\"\n",
    "df6.rename(columns={'country code': 'iso3 alpha-code'}, inplace=True)"
   ]
  },
  {
   "attachments": {},
   "cell_type": "markdown",
   "metadata": {},
   "source": [
    "#### <p align=center> **Refugee-origin-asylum Dataset** <p>"
   ]
  },
  {
   "cell_type": "code",
   "execution_count": 295,
   "metadata": {},
   "outputs": [
    {
     "name": "stdout",
     "output_type": "stream",
     "text": [
      "     economy    time       country  time.1  \\\n",
      "0        zwe  yr2021      zimbabwe    2021   \n",
      "1        zwe  yr2020      zimbabwe    2020   \n",
      "2        zwe  yr2019      zimbabwe    2019   \n",
      "3        zwe  yr2018      zimbabwe    2018   \n",
      "4        zwe  yr2017      zimbabwe    2017   \n",
      "...      ...     ...           ...     ...   \n",
      "5163     bhs  yr2000  bahamas, the    2000   \n",
      "5164     aut  yr2016       austria    2016   \n",
      "5165     aut  yr2015       austria    2015   \n",
      "5166     aus  yr2001     australia    2001   \n",
      "5167     aus  yr2000     australia    2000   \n",
      "\n",
      "      refugee population by country or territory of asylum  \\\n",
      "0                                                9483.0      \n",
      "1                                                9261.0      \n",
      "2                                                8956.0      \n",
      "3                                                7795.0      \n",
      "4                                                7566.0      \n",
      "...                                                 ...      \n",
      "5163                                               98.0      \n",
      "5164                                            93242.0      \n",
      "5165                                            72198.0      \n",
      "5166                                            57885.0      \n",
      "5167                                            60219.0      \n",
      "\n",
      "      refugee population by country or territory of origin  \n",
      "0                                                8115.0     \n",
      "1                                                8575.0     \n",
      "2                                               10045.0     \n",
      "3                                               15618.0     \n",
      "4                                               17420.0     \n",
      "...                                                 ...     \n",
      "5163                                                NaN     \n",
      "5164                                                NaN     \n",
      "5165                                                NaN     \n",
      "5166                                                NaN     \n",
      "5167                                                NaN     \n",
      "\n",
      "[5168 rows x 6 columns]\n"
     ]
    }
   ],
   "source": [
    "# Esto es una representacion , el analisis se hizo viendo y analizando el csv\n",
    "print(df7)"
   ]
  },
  {
   "cell_type": "code",
   "execution_count": 296,
   "metadata": {},
   "outputs": [],
   "source": [
    "# La columna \"country\" no es necesaria en este dataset porque ya lo tenemos en el dataset \"Demographic_Indicators\" para unir los codigos con los nombres , PROCEDEMOS A ELIMINAR LA COLUMNA 'COUNTRY'\n",
    "df7.drop('country', axis=1, inplace=True)"
   ]
  },
  {
   "cell_type": "code",
   "execution_count": 297,
   "metadata": {},
   "outputs": [],
   "source": [
    "# Vemos que una de las columnas time es igual que la otra solo que incluye el prefijo \"YR\" antes de cada anio aparte el programa se vio obligado a renombrar a la segunda columna time como time.1, PROCEDEMOS A ELIMINAR ESTA COLUMNA \"TIME\" CON LOS PREFIJOS\n",
    "df7.drop('time', axis=1, inplace=True)"
   ]
  },
  {
   "cell_type": "code",
   "execution_count": 298,
   "metadata": {},
   "outputs": [],
   "source": [
    "# Vemos que la columna \"time.1\" esta mal nombrada , asi que vamos a cambiarle el nombre a \"time\"\n",
    "df7.rename(columns={'time.1': 'year'}, inplace=True)"
   ]
  },
  {
   "cell_type": "code",
   "execution_count": 299,
   "metadata": {},
   "outputs": [],
   "source": [
    "# Cambiamos el nombre a la columna \"economy\" a \"iso3 alpha-code\"\n",
    "df7.rename(columns={'economy': 'iso3 alpha-code'}, inplace=True)"
   ]
  },
  {
   "attachments": {},
   "cell_type": "markdown",
   "metadata": {},
   "source": [
    "#### <p align=center> **States_GDP-percapita Dataset** <p>"
   ]
  },
  {
   "cell_type": "code",
   "execution_count": 300,
   "metadata": {},
   "outputs": [
    {
     "name": "stdout",
     "output_type": "stream",
     "text": [
      "     country name country code  year        value\n",
      "0      arab world          arb  1990  6759.785391\n",
      "1      arab world          arb  1991  6821.770961\n",
      "2      arab world          arb  1992  7193.242012\n",
      "3      arab world          arb  1993  7394.499977\n",
      "4      arab world          arb  1994  7583.281922\n",
      "...           ...          ...   ...          ...\n",
      "6189     zimbabwe          zwe  2012  1905.837880\n",
      "6190     zimbabwe          zwe  2013  1997.052201\n",
      "6191     zimbabwe          zwe  2014  2028.019259\n",
      "6192     zimbabwe          zwe  2015  2036.319260\n",
      "6193     zimbabwe          zwe  2016  2027.084917\n",
      "\n",
      "[6194 rows x 4 columns]\n"
     ]
    }
   ],
   "source": [
    "# Esto es una representacion , el analisis se hizo viendo y analizando el csv\n",
    "print(df8)"
   ]
  },
  {
   "cell_type": "code",
   "execution_count": 301,
   "metadata": {},
   "outputs": [],
   "source": [
    "# La columna \"country name\" no es necesaria en este dataset porque ya lo tenemos en el dataset \"Demographic_Indicators\" para unir los codigos con los nombres , PROCEDEMOS A ELIMINAR LA COLUMNA 'COUNTRY'\n",
    "df8.drop('country name', axis=1, inplace=True)"
   ]
  },
  {
   "cell_type": "code",
   "execution_count": 302,
   "metadata": {},
   "outputs": [],
   "source": [
    "# Cambiamos el nombre a la columna \"country code\" a \"iso3 alpha-code\"\n",
    "df8.rename(columns={'country code': 'iso3 alpha-code'}, inplace=True)"
   ]
  },
  {
   "attachments": {},
   "cell_type": "markdown",
   "metadata": {},
   "source": [
    "#### <p align=center> **States_Mobile-Population-Research-Labor Dataset** <p>"
   ]
  },
  {
   "cell_type": "code",
   "execution_count": 303,
   "metadata": {},
   "outputs": [
    {
     "name": "stdout",
     "output_type": "stream",
     "text": [
      "     economy    time                                       country  time.1  \\\n",
      "0        zwe  yr2021                                      zimbabwe    2021   \n",
      "1        zwe  yr2020                                      zimbabwe    2020   \n",
      "2        zwe  yr2019                                      zimbabwe    2019   \n",
      "3        zwe  yr2018                                      zimbabwe    2018   \n",
      "4        zwe  yr2017                                      zimbabwe    2017   \n",
      "...      ...     ...                                           ...     ...   \n",
      "5825     lic  yr2021                                    low income    2021   \n",
      "5826     ldc  yr2021  least developed countries: un classification    2021   \n",
      "5827     idx  yr2021                                      ida only    2021   \n",
      "5828     hpc  yr2021        heavily indebted poor countries (hipc)    2021   \n",
      "5829     fcs  yr2021      fragile and conflict affected situations    2021   \n",
      "\n",
      "      research and development expenditure (pct of gdp)  mobile subs.  \\\n",
      "0                                                   NaN     89.146019   \n",
      "1                                                   NaN     84.186274   \n",
      "2                                                   NaN     85.940989   \n",
      "3                                                   NaN     85.761588   \n",
      "4                                                   NaN     95.532557   \n",
      "...                                                 ...           ...   \n",
      "5825                                                NaN           NaN   \n",
      "5826                                                NaN           NaN   \n",
      "5827                                                NaN           NaN   \n",
      "5828                                                NaN           NaN   \n",
      "5829                                                NaN           NaN   \n",
      "\n",
      "      labour force, total  population total  \n",
      "0               7915768.0      1.599352e+07  \n",
      "1               7693983.0      1.566967e+07  \n",
      "2               7591946.0      1.535461e+07  \n",
      "3               7403981.0      1.505218e+07  \n",
      "4               7214627.0      1.475110e+07  \n",
      "...                   ...               ...  \n",
      "5825          273924415.0      7.182551e+08  \n",
      "5826          436837302.0      1.099569e+09  \n",
      "5827          464003999.0      1.182861e+09  \n",
      "5828          336104196.0      8.611567e+08  \n",
      "5829          353265753.0      1.001462e+09  \n",
      "\n",
      "[5830 rows x 8 columns]\n"
     ]
    }
   ],
   "source": [
    "# Esto es una representacion , el analisis se hizo viendo y analizando el csv\n",
    "print(df9)"
   ]
  },
  {
   "cell_type": "code",
   "execution_count": 304,
   "metadata": {},
   "outputs": [],
   "source": [
    "# La columna \"country\" no es necesaria en este dataset porque ya lo tenemos en el dataset \"Demographic_Indicators\" para unir los codigos con los nombres , PROCEDEMOS A ELIMINAR LA COLUMNA 'COUNTRY'\n",
    "df9.drop('country', axis=1, inplace=True)"
   ]
  },
  {
   "cell_type": "code",
   "execution_count": 305,
   "metadata": {},
   "outputs": [],
   "source": [
    "# Vemos que una de las columnas time es igual que la otra solo que incluye el prefijo \"YR\" antes de cada anio aparte el programa se vio obligado a renombrar a la segunda columna time como time.1, PROCEDEMOS A ELIMINAR ESTA COLUMNA \"TIME\" CON LOS PREFIJOS\n",
    "df9.drop('time', axis=1, inplace=True)"
   ]
  },
  {
   "cell_type": "code",
   "execution_count": 306,
   "metadata": {},
   "outputs": [],
   "source": [
    "# Vemos que la columna \"time.1\" esta mal nombrada , asi que vamos a cambiarle el nombre a \"time\"\n",
    "df9.rename(columns={'time.1': 'year'}, inplace=True)"
   ]
  },
  {
   "cell_type": "code",
   "execution_count": 307,
   "metadata": {},
   "outputs": [],
   "source": [
    "# Cambiamos el nombre a la columna \"economy\" a \"iso3 alpha-code\"\n",
    "df9.rename(columns={'economy': 'iso3 alpha-code'}, inplace=True)"
   ]
  },
  {
   "attachments": {},
   "cell_type": "markdown",
   "metadata": {},
   "source": [
    "### **Formateamos los datos de los datasets y llenamos vacios numericos con NaN**"
   ]
  },
  {
   "attachments": {},
   "cell_type": "markdown",
   "metadata": {},
   "source": [
    "#### <p align=center> **Demographic_Indicators Dataset** <p>"
   ]
  },
  {
   "cell_type": "code",
   "execution_count": 308,
   "metadata": {},
   "outputs": [
    {
     "name": "stdout",
     "output_type": "stream",
     "text": [
      "<class 'pandas.core.frame.DataFrame'>\n",
      "Int64Index: 20592 entries, 0 to 20595\n",
      "Data columns (total 58 columns):\n",
      " #   Column                                                                                          Non-Null Count  Dtype  \n",
      "---  ------                                                                                          --------------  -----  \n",
      " 0   region, subregion, country or area *                                                            20592 non-null  object \n",
      " 1   iso3 alpha-code                                                                                 17064 non-null  object \n",
      " 2   type                                                                                            20592 non-null  object \n",
      " 3   year                                                                                            20592 non-null  float64\n",
      " 4   total population, as of 1 january (thousands)                                                   20592 non-null  object \n",
      " 5   total population, as of 1 july (thousands)                                                      20592 non-null  object \n",
      " 6   male population, as of 1 july (thousands)                                                       20592 non-null  object \n",
      " 7   female population, as of 1 july (thousands)                                                     20592 non-null  object \n",
      " 8   population density, as of 1 july (persons per square km)                                        20592 non-null  object \n",
      " 9   population sex ratio, as of 1 july (males per 100 females)                                      20592 non-null  object \n",
      " 10  median age, as of 1 july (years)                                                                20592 non-null  object \n",
      " 11  natural change, births minus deaths (thousands)                                                 20592 non-null  object \n",
      " 12  rate of natural change (per 1,000 population)                                                   20592 non-null  object \n",
      " 13  population change (thousands)                                                                   20592 non-null  object \n",
      " 14  population growth rate (percentage)                                                             20592 non-null  object \n",
      " 15  population annual doubling time (years)                                                         20592 non-null  object \n",
      " 16  births (thousands)                                                                              20592 non-null  object \n",
      " 17  births by women aged 15 to 19 (thousands)                                                       20592 non-null  object \n",
      " 18  crude birth rate (births per 1,000 population)                                                  20592 non-null  object \n",
      " 19  total fertility rate (live births per woman)                                                    20592 non-null  object \n",
      " 20  net reproduction rate (surviving daughters per woman)                                           20592 non-null  object \n",
      " 21  mean age childbearing (years)                                                                   20592 non-null  object \n",
      " 22  sex ratio at birth (males per 100 female births)                                                20592 non-null  object \n",
      " 23  total deaths (thousands)                                                                        20592 non-null  object \n",
      " 24  male deaths (thousands)                                                                         20592 non-null  object \n",
      " 25  female deaths (thousands)                                                                       20592 non-null  object \n",
      " 26  crude death rate (deaths per 1,000 population)                                                  20592 non-null  object \n",
      " 27  life expectancy at birth, both sexes (years)                                                    20592 non-null  object \n",
      " 28  male life expectancy at birth (years)                                                           20592 non-null  object \n",
      " 29  female life expectancy at birth (years)                                                         20592 non-null  object \n",
      " 30  life expectancy at age 15, both sexes (years)                                                   20592 non-null  object \n",
      " 31  male life expectancy at age 15 (years)                                                          20592 non-null  object \n",
      " 32  female life expectancy at age 15 (years)                                                        20592 non-null  object \n",
      " 33  life expectancy at age 65, both sexes (years)                                                   20592 non-null  object \n",
      " 34  male life expectancy at age 65 (years)                                                          20592 non-null  object \n",
      " 35  female life expectancy at age 65 (years)                                                        20592 non-null  object \n",
      " 36  life expectancy at age 80, both sexes (years)                                                   20592 non-null  object \n",
      " 37  male life expectancy at age 80 (years)                                                          20592 non-null  object \n",
      " 38  female life expectancy at age 80 (years)                                                        20592 non-null  object \n",
      " 39  infant deaths, under age 1 (thousands)                                                          20592 non-null  object \n",
      " 40  infant mortality rate (infant deaths per 1,000 live births)                                     20592 non-null  object \n",
      " 41  live births surviving to age 1 (thousands)                                                      20592 non-null  object \n",
      " 42  under-five deaths, under age 5 (thousands)                                                      20592 non-null  object \n",
      " 43  under-five mortality (deaths under age 5 per 1,000 live births)                                 20592 non-null  object \n",
      " 44  mortality before age 40, both sexes (deaths under age 40 per 1,000 live births)                 20592 non-null  object \n",
      " 45  male mortality before age 40 (deaths under age 40 per 1,000 male live births)                   20592 non-null  object \n",
      " 46  female mortality before age 40 (deaths under age 40 per 1,000 female live births)               20592 non-null  object \n",
      " 47  mortality before age 60, both sexes (deaths under age 60 per 1,000 live births)                 20592 non-null  object \n",
      " 48  male mortality before age 60 (deaths under age 60 per 1,000 male live births)                   20592 non-null  object \n",
      " 49  female mortality before age 60 (deaths under age 60 per 1,000 female live births)               20592 non-null  object \n",
      " 50  mortality between age 15 and 50, both sexes (deaths under age 50 per 1,000 alive at age 15)     20592 non-null  object \n",
      " 51  male mortality between age 15 and 50 (deaths under age 50 per 1,000 males alive at age 15)      20592 non-null  object \n",
      " 52  female mortality between age 15 and 50 (deaths under age 50 per 1,000 females alive at age 15)  20592 non-null  object \n",
      " 53  mortality between age 15 and 60, both sexes (deaths under age 60 per 1,000 alive at age 15)     20592 non-null  object \n",
      " 54  male mortality between age 15 and 60 (deaths under age 60 per 1,000 males alive at age 15)      20592 non-null  object \n",
      " 55  female mortality between age 15 and 60 (deaths under age 60 per 1,000 females alive at age 15)  20592 non-null  object \n",
      " 56  net number of migrants (thousands)                                                              20592 non-null  object \n",
      " 57  net migration rate (per 1,000 population)                                                       20592 non-null  object \n",
      "dtypes: float64(1), object(57)\n",
      "memory usage: 9.3+ MB\n"
     ]
    }
   ],
   "source": [
    "# Mostramos el dataset modificado \n",
    "df1.info()"
   ]
  },
  {
   "cell_type": "code",
   "execution_count": 309,
   "metadata": {},
   "outputs": [
    {
     "name": "stderr",
     "output_type": "stream",
     "text": [
      "C:\\Users\\user\\AppData\\Local\\Temp\\ipykernel_11616\\3571693485.py:1: SettingWithCopyWarning: \n",
      "A value is trying to be set on a copy of a slice from a DataFrame.\n",
      "Try using .loc[row_indexer,col_indexer] = value instead\n",
      "\n",
      "See the caveats in the documentation: https://pandas.pydata.org/pandas-docs/stable/user_guide/indexing.html#returning-a-view-versus-a-copy\n",
      "  df1['region, subregion, country or area *'] = df1['region, subregion, country or area *'].astype('str')\n",
      "C:\\Users\\user\\AppData\\Local\\Temp\\ipykernel_11616\\3571693485.py:2: SettingWithCopyWarning: \n",
      "A value is trying to be set on a copy of a slice from a DataFrame.\n",
      "Try using .loc[row_indexer,col_indexer] = value instead\n",
      "\n",
      "See the caveats in the documentation: https://pandas.pydata.org/pandas-docs/stable/user_guide/indexing.html#returning-a-view-versus-a-copy\n",
      "  df1['iso3 alpha-code'] = df1['iso3 alpha-code'].astype('str')\n",
      "C:\\Users\\user\\AppData\\Local\\Temp\\ipykernel_11616\\3571693485.py:3: SettingWithCopyWarning: \n",
      "A value is trying to be set on a copy of a slice from a DataFrame.\n",
      "Try using .loc[row_indexer,col_indexer] = value instead\n",
      "\n",
      "See the caveats in the documentation: https://pandas.pydata.org/pandas-docs/stable/user_guide/indexing.html#returning-a-view-versus-a-copy\n",
      "  df1['type'] = df1['type'].astype('str')\n",
      "C:\\Users\\user\\AppData\\Local\\Temp\\ipykernel_11616\\3571693485.py:4: SettingWithCopyWarning: \n",
      "A value is trying to be set on a copy of a slice from a DataFrame.\n",
      "Try using .loc[row_indexer,col_indexer] = value instead\n",
      "\n",
      "See the caveats in the documentation: https://pandas.pydata.org/pandas-docs/stable/user_guide/indexing.html#returning-a-view-versus-a-copy\n",
      "  df1['year'] = df1['year'].astype('int')\n",
      "C:\\Users\\user\\AppData\\Local\\Temp\\ipykernel_11616\\3571693485.py:6: SettingWithCopyWarning: \n",
      "A value is trying to be set on a copy of a slice from a DataFrame.\n",
      "Try using .loc[row_indexer,col_indexer] = value instead\n",
      "\n",
      "See the caveats in the documentation: https://pandas.pydata.org/pandas-docs/stable/user_guide/indexing.html#returning-a-view-versus-a-copy\n",
      "  df1[col] = pd.to_numeric(df1[col], errors='coerce')\n"
     ]
    }
   ],
   "source": [
    "df1['region, subregion, country or area *'] = df1['region, subregion, country or area *'].astype('str')\n",
    "df1['iso3 alpha-code'] = df1['iso3 alpha-code'].astype('str')\n",
    "df1['type'] = df1['type'].astype('str')\n",
    "df1['year'] = df1['year'].astype('int')\n",
    "for col in df1.columns[4:]:\n",
    "    df1[col] = pd.to_numeric(df1[col], errors='coerce')"
   ]
  },
  {
   "cell_type": "code",
   "execution_count": 310,
   "metadata": {},
   "outputs": [
    {
     "name": "stdout",
     "output_type": "stream",
     "text": [
      "<class 'pandas.core.frame.DataFrame'>\n",
      "Int64Index: 20592 entries, 0 to 20595\n",
      "Data columns (total 58 columns):\n",
      " #   Column                                                                                          Non-Null Count  Dtype  \n",
      "---  ------                                                                                          --------------  -----  \n",
      " 0   region, subregion, country or area *                                                            20592 non-null  object \n",
      " 1   iso3 alpha-code                                                                                 20592 non-null  object \n",
      " 2   type                                                                                            20592 non-null  object \n",
      " 3   year                                                                                            20592 non-null  int32  \n",
      " 4   total population, as of 1 january (thousands)                                                   20592 non-null  float64\n",
      " 5   total population, as of 1 july (thousands)                                                      20592 non-null  float64\n",
      " 6   male population, as of 1 july (thousands)                                                       20520 non-null  float64\n",
      " 7   female population, as of 1 july (thousands)                                                     20520 non-null  float64\n",
      " 8   population density, as of 1 july (persons per square km)                                        20592 non-null  float64\n",
      " 9   population sex ratio, as of 1 july (males per 100 females)                                      20520 non-null  float64\n",
      " 10  median age, as of 1 july (years)                                                                20520 non-null  float64\n",
      " 11  natural change, births minus deaths (thousands)                                                 20520 non-null  float64\n",
      " 12  rate of natural change (per 1,000 population)                                                   20520 non-null  float64\n",
      " 13  population change (thousands)                                                                   20592 non-null  float64\n",
      " 14  population growth rate (percentage)                                                             20592 non-null  float64\n",
      " 15  population annual doubling time (years)                                                         16906 non-null  float64\n",
      " 16  births (thousands)                                                                              20520 non-null  float64\n",
      " 17  births by women aged 15 to 19 (thousands)                                                       20520 non-null  float64\n",
      " 18  crude birth rate (births per 1,000 population)                                                  20520 non-null  float64\n",
      " 19  total fertility rate (live births per woman)                                                    20520 non-null  float64\n",
      " 20  net reproduction rate (surviving daughters per woman)                                           20520 non-null  float64\n",
      " 21  mean age childbearing (years)                                                                   20520 non-null  float64\n",
      " 22  sex ratio at birth (males per 100 female births)                                                20520 non-null  float64\n",
      " 23  total deaths (thousands)                                                                        20520 non-null  float64\n",
      " 24  male deaths (thousands)                                                                         20520 non-null  float64\n",
      " 25  female deaths (thousands)                                                                       20520 non-null  float64\n",
      " 26  crude death rate (deaths per 1,000 population)                                                  20520 non-null  float64\n",
      " 27  life expectancy at birth, both sexes (years)                                                    20520 non-null  float64\n",
      " 28  male life expectancy at birth (years)                                                           20520 non-null  float64\n",
      " 29  female life expectancy at birth (years)                                                         20520 non-null  float64\n",
      " 30  life expectancy at age 15, both sexes (years)                                                   20520 non-null  float64\n",
      " 31  male life expectancy at age 15 (years)                                                          20520 non-null  float64\n",
      " 32  female life expectancy at age 15 (years)                                                        20520 non-null  float64\n",
      " 33  life expectancy at age 65, both sexes (years)                                                   20520 non-null  float64\n",
      " 34  male life expectancy at age 65 (years)                                                          20520 non-null  float64\n",
      " 35  female life expectancy at age 65 (years)                                                        20520 non-null  float64\n",
      " 36  life expectancy at age 80, both sexes (years)                                                   20520 non-null  float64\n",
      " 37  male life expectancy at age 80 (years)                                                          20520 non-null  float64\n",
      " 38  female life expectancy at age 80 (years)                                                        20520 non-null  float64\n",
      " 39  infant deaths, under age 1 (thousands)                                                          20520 non-null  float64\n",
      " 40  infant mortality rate (infant deaths per 1,000 live births)                                     20520 non-null  float64\n",
      " 41  live births surviving to age 1 (thousands)                                                      20520 non-null  float64\n",
      " 42  under-five deaths, under age 5 (thousands)                                                      20520 non-null  float64\n",
      " 43  under-five mortality (deaths under age 5 per 1,000 live births)                                 20520 non-null  float64\n",
      " 44  mortality before age 40, both sexes (deaths under age 40 per 1,000 live births)                 20520 non-null  float64\n",
      " 45  male mortality before age 40 (deaths under age 40 per 1,000 male live births)                   20520 non-null  float64\n",
      " 46  female mortality before age 40 (deaths under age 40 per 1,000 female live births)               20520 non-null  float64\n",
      " 47  mortality before age 60, both sexes (deaths under age 60 per 1,000 live births)                 20520 non-null  float64\n",
      " 48  male mortality before age 60 (deaths under age 60 per 1,000 male live births)                   20520 non-null  float64\n",
      " 49  female mortality before age 60 (deaths under age 60 per 1,000 female live births)               20520 non-null  float64\n",
      " 50  mortality between age 15 and 50, both sexes (deaths under age 50 per 1,000 alive at age 15)     20520 non-null  float64\n",
      " 51  male mortality between age 15 and 50 (deaths under age 50 per 1,000 males alive at age 15)      20520 non-null  float64\n",
      " 52  female mortality between age 15 and 50 (deaths under age 50 per 1,000 females alive at age 15)  20520 non-null  float64\n",
      " 53  mortality between age 15 and 60, both sexes (deaths under age 60 per 1,000 alive at age 15)     20520 non-null  float64\n",
      " 54  male mortality between age 15 and 60 (deaths under age 60 per 1,000 males alive at age 15)      20520 non-null  float64\n",
      " 55  female mortality between age 15 and 60 (deaths under age 60 per 1,000 females alive at age 15)  20520 non-null  float64\n",
      " 56  net number of migrants (thousands)                                                              20520 non-null  float64\n",
      " 57  net migration rate (per 1,000 population)                                                       20520 non-null  float64\n",
      "dtypes: float64(54), int32(1), object(3)\n",
      "memory usage: 9.2+ MB\n"
     ]
    }
   ],
   "source": [
    "df1.info()"
   ]
  },
  {
   "attachments": {},
   "cell_type": "markdown",
   "metadata": {},
   "source": [
    "#### <p align=center> **Economy_Complete Dataset** <p>"
   ]
  },
  {
   "cell_type": "code",
   "execution_count": 311,
   "metadata": {},
   "outputs": [
    {
     "name": "stdout",
     "output_type": "stream",
     "text": [
      "<class 'pandas.core.frame.DataFrame'>\n",
      "RangeIndex: 5738 entries, 0 to 5737\n",
      "Data columns (total 14 columns):\n",
      " #   Column                                                     Non-Null Count  Dtype  \n",
      "---  ------                                                     --------------  -----  \n",
      " 0   iso3 alpha-code                                            5738 non-null   object \n",
      " 1   year                                                       5738 non-null   int64  \n",
      " 2   foreign direct investment, net inflows (bop, current us$)  5369 non-null   float64\n",
      " 3   total reserves (gold + us$)                                3801 non-null   float64\n",
      " 4   consumer price                                             3966 non-null   float64\n",
      " 5   time required to start a business (days)                   3774 non-null   float64\n",
      " 6   total tax and contribution rate (pct of profit)            3397 non-null   float64\n",
      " 7   final consumption expenditure                              4400 non-null   float64\n",
      " 8   exports of goods and services (pct of gdp)                 5016 non-null   float64\n",
      " 9   imports of goods and services (pct of gdp)                 5010 non-null   float64\n",
      " 10  gross domestic product                                     5609 non-null   float64\n",
      " 11  gdp growth                                                 5529 non-null   float64\n",
      " 12  gni per capita                                             5285 non-null   float64\n",
      " 13  gross savings                                              4337 non-null   float64\n",
      "dtypes: float64(12), int64(1), object(1)\n",
      "memory usage: 627.7+ KB\n"
     ]
    }
   ],
   "source": [
    "# Mostramos el dataset modificado \n",
    "df2.info()"
   ]
  },
  {
   "cell_type": "code",
   "execution_count": 312,
   "metadata": {},
   "outputs": [],
   "source": [
    "# Parece que todo esta bien pero por seacaso nos aseguramos , recordemos que en del ETL depende el EDA y el entrenamiento del modelo de ML.\n",
    "df2['iso3 alpha-code'] = df2['iso3 alpha-code'].astype('str')\n",
    "df2['year'] = df2['year'].astype('int')\n",
    "for col in df2.columns[2:]:\n",
    "    df2[col] = pd.to_numeric(df2[col], errors='coerce')"
   ]
  },
  {
   "cell_type": "code",
   "execution_count": 313,
   "metadata": {},
   "outputs": [
    {
     "name": "stdout",
     "output_type": "stream",
     "text": [
      "<class 'pandas.core.frame.DataFrame'>\n",
      "RangeIndex: 5738 entries, 0 to 5737\n",
      "Data columns (total 14 columns):\n",
      " #   Column                                                     Non-Null Count  Dtype  \n",
      "---  ------                                                     --------------  -----  \n",
      " 0   iso3 alpha-code                                            5738 non-null   object \n",
      " 1   year                                                       5738 non-null   int32  \n",
      " 2   foreign direct investment, net inflows (bop, current us$)  5369 non-null   float64\n",
      " 3   total reserves (gold + us$)                                3801 non-null   float64\n",
      " 4   consumer price                                             3966 non-null   float64\n",
      " 5   time required to start a business (days)                   3774 non-null   float64\n",
      " 6   total tax and contribution rate (pct of profit)            3397 non-null   float64\n",
      " 7   final consumption expenditure                              4400 non-null   float64\n",
      " 8   exports of goods and services (pct of gdp)                 5016 non-null   float64\n",
      " 9   imports of goods and services (pct of gdp)                 5010 non-null   float64\n",
      " 10  gross domestic product                                     5609 non-null   float64\n",
      " 11  gdp growth                                                 5529 non-null   float64\n",
      " 12  gni per capita                                             5285 non-null   float64\n",
      " 13  gross savings                                              4337 non-null   float64\n",
      "dtypes: float64(12), int32(1), object(1)\n",
      "memory usage: 605.3+ KB\n"
     ]
    }
   ],
   "source": [
    "# Revisamos el dataset formateado\n",
    "df2.info()"
   ]
  },
  {
   "attachments": {},
   "cell_type": "markdown",
   "metadata": {},
   "source": [
    "#### <p align=center> **Environment_Electricity-Sanitation Dataset** <p>"
   ]
  },
  {
   "cell_type": "code",
   "execution_count": 314,
   "metadata": {},
   "outputs": [
    {
     "name": "stdout",
     "output_type": "stream",
     "text": [
      "<class 'pandas.core.frame.DataFrame'>\n",
      "RangeIndex: 5523 entries, 0 to 5522\n",
      "Data columns (total 4 columns):\n",
      " #   Column            Non-Null Count  Dtype  \n",
      "---  ------            --------------  -----  \n",
      " 0   iso3 alpha-code   5523 non-null   object \n",
      " 1   year              5523 non-null   int64  \n",
      " 2   access elect.     5507 non-null   float64\n",
      " 3   basic sanitation  4659 non-null   float64\n",
      "dtypes: float64(2), int64(1), object(1)\n",
      "memory usage: 172.7+ KB\n"
     ]
    }
   ],
   "source": [
    "# Mostramos el dataset modificado \n",
    "df3.info()"
   ]
  },
  {
   "cell_type": "code",
   "execution_count": 315,
   "metadata": {},
   "outputs": [],
   "source": [
    "# Parece que todo esta bien pero por seacaso nos aseguramos , recordemos que en del ETL depende el EDA y el entrenamiento del modelo de ML.\n",
    "df3['iso3 alpha-code'] = df3['iso3 alpha-code'].astype('str')\n",
    "df3['year'] = df3['year'].astype('int')\n",
    "for col in df3.columns[2:]:\n",
    "    df3[col] = pd.to_numeric(df3[col], errors='coerce')"
   ]
  },
  {
   "cell_type": "code",
   "execution_count": 316,
   "metadata": {},
   "outputs": [
    {
     "name": "stdout",
     "output_type": "stream",
     "text": [
      "<class 'pandas.core.frame.DataFrame'>\n",
      "RangeIndex: 5523 entries, 0 to 5522\n",
      "Data columns (total 4 columns):\n",
      " #   Column            Non-Null Count  Dtype  \n",
      "---  ------            --------------  -----  \n",
      " 0   iso3 alpha-code   5523 non-null   object \n",
      " 1   year              5523 non-null   int32  \n",
      " 2   access elect.     5507 non-null   float64\n",
      " 3   basic sanitation  4659 non-null   float64\n",
      "dtypes: float64(2), int32(1), object(1)\n",
      "memory usage: 151.1+ KB\n"
     ]
    }
   ],
   "source": [
    "# Revisamos el dataset formateado\n",
    "df3.info()"
   ]
  },
  {
   "attachments": {},
   "cell_type": "markdown",
   "metadata": {},
   "source": [
    "#### <p align=center> **Environment_Population-Density Dataset** <p>"
   ]
  },
  {
   "cell_type": "code",
   "execution_count": 317,
   "metadata": {},
   "outputs": [
    {
     "name": "stdout",
     "output_type": "stream",
     "text": [
      "<class 'pandas.core.frame.DataFrame'>\n",
      "RangeIndex: 14339 entries, 0 to 14338\n",
      "Data columns (total 3 columns):\n",
      " #   Column           Non-Null Count  Dtype  \n",
      "---  ------           --------------  -----  \n",
      " 0   iso3 alpha-code  14339 non-null  object \n",
      " 1   year             14339 non-null  int64  \n",
      " 2   value            14339 non-null  float64\n",
      "dtypes: float64(1), int64(1), object(1)\n",
      "memory usage: 336.2+ KB\n"
     ]
    }
   ],
   "source": [
    "# Mostramos el dataset modificado \n",
    "df4.info()"
   ]
  },
  {
   "cell_type": "code",
   "execution_count": 318,
   "metadata": {},
   "outputs": [],
   "source": [
    "# Parece que todo esta bien pero por seacaso nos aseguramos , recordemos que en del ETL depende el EDA y el entrenamiento del modelo de ML.\n",
    "df4['iso3 alpha-code'] = df4['iso3 alpha-code'].astype('str')\n",
    "df4['year'] = df4['year'].astype('int')\n",
    "for col in df4.columns[2:]:\n",
    "    df4[col] = pd.to_numeric(df4[col], errors='coerce')"
   ]
  },
  {
   "cell_type": "code",
   "execution_count": 319,
   "metadata": {},
   "outputs": [
    {
     "name": "stdout",
     "output_type": "stream",
     "text": [
      "<class 'pandas.core.frame.DataFrame'>\n",
      "RangeIndex: 14339 entries, 0 to 14338\n",
      "Data columns (total 3 columns):\n",
      " #   Column           Non-Null Count  Dtype  \n",
      "---  ------           --------------  -----  \n",
      " 0   iso3 alpha-code  14339 non-null  object \n",
      " 1   year             14339 non-null  int32  \n",
      " 2   value            14339 non-null  float64\n",
      "dtypes: float64(1), int32(1), object(1)\n",
      "memory usage: 280.2+ KB\n"
     ]
    }
   ],
   "source": [
    "# Revisamos el dataset formateado\n",
    "df4.info()"
   ]
  },
  {
   "attachments": {},
   "cell_type": "markdown",
   "metadata": {},
   "source": [
    "#### <p align=center> **People_Complete Dataset** <p>"
   ]
  },
  {
   "cell_type": "code",
   "execution_count": 320,
   "metadata": {},
   "outputs": [
    {
     "name": "stdout",
     "output_type": "stream",
     "text": [
      "<class 'pandas.core.frame.DataFrame'>\n",
      "RangeIndex: 5636 entries, 0 to 5635\n",
      "Data columns (total 6 columns):\n",
      " #   Column                                                      Non-Null Count  Dtype  \n",
      "---  ------                                                      --------------  -----  \n",
      " 0   iso3 alpha-code                                             5636 non-null   object \n",
      " 1   year                                                        5636 non-null   int64  \n",
      " 2   primary completion rate, total (pct of relevant age group)  3813 non-null   float64\n",
      " 3   expenditure education                                       4013 non-null   float64\n",
      " 4   unemployment                                                5170 non-null   float64\n",
      " 5   intentional homicides (per 100,000 people)                  2909 non-null   float64\n",
      "dtypes: float64(4), int64(1), object(1)\n",
      "memory usage: 264.3+ KB\n"
     ]
    }
   ],
   "source": [
    "# Mostramos el dataset modificado \n",
    "df5.info()"
   ]
  },
  {
   "cell_type": "code",
   "execution_count": 321,
   "metadata": {},
   "outputs": [],
   "source": [
    "# Parece que todo esta bien pero por seacaso nos aseguramos , recordemos que en del ETL depende el EDA y el entrenamiento del modelo de ML.\n",
    "df5['iso3 alpha-code'] = df5['iso3 alpha-code'].astype('str')\n",
    "df5['year'] = df5['year'].astype('int')\n",
    "for col in df5.columns[2:]:\n",
    "    df5[col] = pd.to_numeric(df5[col], errors='coerce')"
   ]
  },
  {
   "cell_type": "code",
   "execution_count": 322,
   "metadata": {},
   "outputs": [
    {
     "name": "stdout",
     "output_type": "stream",
     "text": [
      "<class 'pandas.core.frame.DataFrame'>\n",
      "RangeIndex: 5636 entries, 0 to 5635\n",
      "Data columns (total 6 columns):\n",
      " #   Column                                                      Non-Null Count  Dtype  \n",
      "---  ------                                                      --------------  -----  \n",
      " 0   iso3 alpha-code                                             5636 non-null   object \n",
      " 1   year                                                        5636 non-null   int32  \n",
      " 2   primary completion rate, total (pct of relevant age group)  3813 non-null   float64\n",
      " 3   expenditure education                                       4013 non-null   float64\n",
      " 4   unemployment                                                5170 non-null   float64\n",
      " 5   intentional homicides (per 100,000 people)                  2909 non-null   float64\n",
      "dtypes: float64(4), int32(1), object(1)\n",
      "memory usage: 242.3+ KB\n"
     ]
    }
   ],
   "source": [
    "# Revisamos el dataset formateado\n",
    "df5.info()"
   ]
  },
  {
   "attachments": {},
   "cell_type": "markdown",
   "metadata": {},
   "source": [
    "#### <p align=center> **Poverty_Maternal-Mortality Dataset** <p>"
   ]
  },
  {
   "cell_type": "code",
   "execution_count": 323,
   "metadata": {},
   "outputs": [
    {
     "name": "stdout",
     "output_type": "stream",
     "text": [
      "<class 'pandas.core.frame.DataFrame'>\n",
      "RangeIndex: 5954 entries, 0 to 5953\n",
      "Data columns (total 3 columns):\n",
      " #   Column           Non-Null Count  Dtype \n",
      "---  ------           --------------  ----- \n",
      " 0   iso3 alpha-code  5954 non-null   object\n",
      " 1   year             5954 non-null   int64 \n",
      " 2   value            5954 non-null   int64 \n",
      "dtypes: int64(2), object(1)\n",
      "memory usage: 139.7+ KB\n"
     ]
    }
   ],
   "source": [
    "# Mostramos el dataset modificado \n",
    "df6.info()"
   ]
  },
  {
   "cell_type": "code",
   "execution_count": 324,
   "metadata": {},
   "outputs": [],
   "source": [
    "# Parece que todo esta bien pero por seacaso nos aseguramos , recordemos que en del ETL depende el EDA y el entrenamiento del modelo de ML.\n",
    "df6['iso3 alpha-code'] = df6['iso3 alpha-code'].astype('str')\n",
    "df6['year'] = df6['year'].astype('int')\n",
    "for col in df6.columns[2:]:\n",
    "    df6[col] = pd.to_numeric(df6[col], errors='coerce')"
   ]
  },
  {
   "cell_type": "code",
   "execution_count": 325,
   "metadata": {},
   "outputs": [
    {
     "name": "stdout",
     "output_type": "stream",
     "text": [
      "<class 'pandas.core.frame.DataFrame'>\n",
      "RangeIndex: 5954 entries, 0 to 5953\n",
      "Data columns (total 3 columns):\n",
      " #   Column           Non-Null Count  Dtype \n",
      "---  ------           --------------  ----- \n",
      " 0   iso3 alpha-code  5954 non-null   object\n",
      " 1   year             5954 non-null   int32 \n",
      " 2   value            5954 non-null   int64 \n",
      "dtypes: int32(1), int64(1), object(1)\n",
      "memory usage: 116.4+ KB\n"
     ]
    }
   ],
   "source": [
    "# Revisamos el dataset formateado\n",
    "df6.info()"
   ]
  },
  {
   "attachments": {},
   "cell_type": "markdown",
   "metadata": {},
   "source": [
    "#### <p align=center> **Refugee-origin-asylum Dataset** <p>"
   ]
  },
  {
   "cell_type": "code",
   "execution_count": 326,
   "metadata": {},
   "outputs": [
    {
     "name": "stdout",
     "output_type": "stream",
     "text": [
      "<class 'pandas.core.frame.DataFrame'>\n",
      "RangeIndex: 5168 entries, 0 to 5167\n",
      "Data columns (total 4 columns):\n",
      " #   Column                                                Non-Null Count  Dtype  \n",
      "---  ------                                                --------------  -----  \n",
      " 0   iso3 alpha-code                                       5168 non-null   object \n",
      " 1   year                                                  5168 non-null   int64  \n",
      " 2   refugee population by country or territory of asylum  4505 non-null   float64\n",
      " 3   refugee population by country or territory of origin  5037 non-null   float64\n",
      "dtypes: float64(2), int64(1), object(1)\n",
      "memory usage: 161.6+ KB\n"
     ]
    }
   ],
   "source": [
    "# Mostramos el dataset modificado \n",
    "df7.info()"
   ]
  },
  {
   "cell_type": "code",
   "execution_count": 327,
   "metadata": {},
   "outputs": [],
   "source": [
    "# Parece que todo esta bien pero por seacaso nos aseguramos , recordemos que en del ETL depende el EDA y el entrenamiento del modelo de ML.\n",
    "df7['iso3 alpha-code'] = df7['iso3 alpha-code'].astype('str')\n",
    "df7['year'] = df7['year'].astype('int')\n",
    "for col in df7.columns[2:]:\n",
    "    df7[col] = pd.to_numeric(df7[col], errors='coerce')"
   ]
  },
  {
   "cell_type": "code",
   "execution_count": 328,
   "metadata": {},
   "outputs": [
    {
     "name": "stdout",
     "output_type": "stream",
     "text": [
      "<class 'pandas.core.frame.DataFrame'>\n",
      "RangeIndex: 5168 entries, 0 to 5167\n",
      "Data columns (total 4 columns):\n",
      " #   Column                                                Non-Null Count  Dtype  \n",
      "---  ------                                                --------------  -----  \n",
      " 0   iso3 alpha-code                                       5168 non-null   object \n",
      " 1   year                                                  5168 non-null   int32  \n",
      " 2   refugee population by country or territory of asylum  4505 non-null   float64\n",
      " 3   refugee population by country or territory of origin  5037 non-null   float64\n",
      "dtypes: float64(2), int32(1), object(1)\n",
      "memory usage: 141.4+ KB\n"
     ]
    }
   ],
   "source": [
    "# Mostramos el dataset formateado\n",
    "df7.info()"
   ]
  },
  {
   "attachments": {},
   "cell_type": "markdown",
   "metadata": {},
   "source": [
    "#### <p align=center> **States_GDP-percapita Dataset** <p>"
   ]
  },
  {
   "cell_type": "code",
   "execution_count": 329,
   "metadata": {},
   "outputs": [
    {
     "name": "stdout",
     "output_type": "stream",
     "text": [
      "<class 'pandas.core.frame.DataFrame'>\n",
      "RangeIndex: 6194 entries, 0 to 6193\n",
      "Data columns (total 3 columns):\n",
      " #   Column           Non-Null Count  Dtype  \n",
      "---  ------           --------------  -----  \n",
      " 0   iso3 alpha-code  6194 non-null   object \n",
      " 1   year             6194 non-null   int64  \n",
      " 2   value            6194 non-null   float64\n",
      "dtypes: float64(1), int64(1), object(1)\n",
      "memory usage: 145.3+ KB\n"
     ]
    }
   ],
   "source": [
    "# Mostramos el dataset modificado \n",
    "df8.info()"
   ]
  },
  {
   "cell_type": "code",
   "execution_count": 330,
   "metadata": {},
   "outputs": [],
   "source": [
    "# Parece que todo esta bien pero por seacaso nos aseguramos , recordemos que en del ETL depende el EDA y el entrenamiento del modelo de ML.\n",
    "df8['iso3 alpha-code'] = df8['iso3 alpha-code'].astype('str')\n",
    "df8['year'] = df8['year'].astype('int')\n",
    "for col in df8.columns[2:]:\n",
    "    df8[col] = pd.to_numeric(df8[col], errors='coerce')"
   ]
  },
  {
   "cell_type": "code",
   "execution_count": 331,
   "metadata": {},
   "outputs": [
    {
     "name": "stdout",
     "output_type": "stream",
     "text": [
      "<class 'pandas.core.frame.DataFrame'>\n",
      "RangeIndex: 6194 entries, 0 to 6193\n",
      "Data columns (total 3 columns):\n",
      " #   Column           Non-Null Count  Dtype  \n",
      "---  ------           --------------  -----  \n",
      " 0   iso3 alpha-code  6194 non-null   object \n",
      " 1   year             6194 non-null   int32  \n",
      " 2   value            6194 non-null   float64\n",
      "dtypes: float64(1), int32(1), object(1)\n",
      "memory usage: 121.1+ KB\n"
     ]
    }
   ],
   "source": [
    "# Mostramos el dataset formateado\n",
    "df8.info()"
   ]
  },
  {
   "attachments": {},
   "cell_type": "markdown",
   "metadata": {},
   "source": [
    "#### <p align=center> **States_Mobile-Population-Research-Labor Dataset** <p>"
   ]
  },
  {
   "cell_type": "code",
   "execution_count": 332,
   "metadata": {},
   "outputs": [
    {
     "name": "stdout",
     "output_type": "stream",
     "text": [
      "<class 'pandas.core.frame.DataFrame'>\n",
      "RangeIndex: 5830 entries, 0 to 5829\n",
      "Data columns (total 6 columns):\n",
      " #   Column                                             Non-Null Count  Dtype  \n",
      "---  ------                                             --------------  -----  \n",
      " 0   iso3 alpha-code                                    5830 non-null   object \n",
      " 1   year                                               5830 non-null   int64  \n",
      " 2   research and development expenditure (pct of gdp)  2449 non-null   float64\n",
      " 3   mobile subs.                                       5491 non-null   float64\n",
      " 4   labour force, total                                5170 non-null   float64\n",
      " 5   population total                                   5830 non-null   float64\n",
      "dtypes: float64(4), int64(1), object(1)\n",
      "memory usage: 273.4+ KB\n"
     ]
    }
   ],
   "source": [
    "# Mostramos el dataset modificado \n",
    "df9.info()"
   ]
  },
  {
   "cell_type": "code",
   "execution_count": 333,
   "metadata": {},
   "outputs": [],
   "source": [
    "# Parece que todo esta bien pero por seacaso nos aseguramos , recordemos que en del ETL depende el EDA y el entrenamiento del modelo de ML.v\n",
    "df9['iso3 alpha-code'] = df9['iso3 alpha-code'].astype('str')\n",
    "df9['year'] = df9['year'].astype('int')\n",
    "for col in df9.columns[2:]:\n",
    "    df9[col] = pd.to_numeric(df9[col], errors='coerce')"
   ]
  },
  {
   "cell_type": "code",
   "execution_count": 334,
   "metadata": {},
   "outputs": [
    {
     "name": "stdout",
     "output_type": "stream",
     "text": [
      "<class 'pandas.core.frame.DataFrame'>\n",
      "RangeIndex: 5830 entries, 0 to 5829\n",
      "Data columns (total 6 columns):\n",
      " #   Column                                             Non-Null Count  Dtype  \n",
      "---  ------                                             --------------  -----  \n",
      " 0   iso3 alpha-code                                    5830 non-null   object \n",
      " 1   year                                               5830 non-null   int32  \n",
      " 2   research and development expenditure (pct of gdp)  2449 non-null   float64\n",
      " 3   mobile subs.                                       5491 non-null   float64\n",
      " 4   labour force, total                                5170 non-null   float64\n",
      " 5   population total                                   5830 non-null   float64\n",
      "dtypes: float64(4), int32(1), object(1)\n",
      "memory usage: 250.6+ KB\n"
     ]
    }
   ],
   "source": [
    "# Mostramos el dataset formateado\n",
    "df9.info()"
   ]
  },
  {
   "attachments": {},
   "cell_type": "markdown",
   "metadata": {},
   "source": [
    "### **Eliminamos Los valores duplicados**"
   ]
  },
  {
   "attachments": {},
   "cell_type": "markdown",
   "metadata": {},
   "source": [
    "#### <p align=center> **Demographic_Indicators Dataset** <p>"
   ]
  },
  {
   "cell_type": "code",
   "execution_count": 335,
   "metadata": {},
   "outputs": [
    {
     "name": "stdout",
     "output_type": "stream",
     "text": [
      "Hay 0 valores duplicados\n"
     ]
    }
   ],
   "source": [
    "print(f\"Hay {df1.duplicated().sum()} valores duplicados\")"
   ]
  },
  {
   "attachments": {},
   "cell_type": "markdown",
   "metadata": {},
   "source": [
    "#### <p align=center> **Economy_Complete Dataset** <p>"
   ]
  },
  {
   "cell_type": "code",
   "execution_count": 336,
   "metadata": {},
   "outputs": [
    {
     "name": "stdout",
     "output_type": "stream",
     "text": [
      "Hay 0 valores duplicados\n"
     ]
    }
   ],
   "source": [
    "print(f\"Hay {df2.duplicated().sum()} valores duplicados\")"
   ]
  },
  {
   "attachments": {},
   "cell_type": "markdown",
   "metadata": {},
   "source": [
    "#### <p align=center> **Environment_Electricity-Sanitation Dataset** <p>"
   ]
  },
  {
   "cell_type": "code",
   "execution_count": 337,
   "metadata": {},
   "outputs": [
    {
     "name": "stdout",
     "output_type": "stream",
     "text": [
      "Hay 0 valores duplicados\n"
     ]
    }
   ],
   "source": [
    "print(f\"Hay {df3.duplicated().sum()} valores duplicados\")"
   ]
  },
  {
   "attachments": {},
   "cell_type": "markdown",
   "metadata": {},
   "source": [
    "#### <p align=center> **Environment_Population-Density Dataset** <p>"
   ]
  },
  {
   "cell_type": "code",
   "execution_count": 338,
   "metadata": {},
   "outputs": [
    {
     "name": "stdout",
     "output_type": "stream",
     "text": [
      "Hay 0 valores duplicados\n"
     ]
    }
   ],
   "source": [
    "print(f\"Hay {df4.duplicated().sum()} valores duplicados\")"
   ]
  },
  {
   "attachments": {},
   "cell_type": "markdown",
   "metadata": {},
   "source": [
    "#### <p align=center> **People_Complete Dataset** <p>"
   ]
  },
  {
   "cell_type": "code",
   "execution_count": 339,
   "metadata": {},
   "outputs": [
    {
     "name": "stdout",
     "output_type": "stream",
     "text": [
      "Hay 0 valores duplicados\n"
     ]
    }
   ],
   "source": [
    "print(f\"Hay {df5.duplicated().sum()} valores duplicados\")"
   ]
  },
  {
   "attachments": {},
   "cell_type": "markdown",
   "metadata": {},
   "source": [
    "#### <p align=center> **Poverty_Maternal-Mortality Dataset** <p>"
   ]
  },
  {
   "cell_type": "code",
   "execution_count": 340,
   "metadata": {},
   "outputs": [
    {
     "name": "stdout",
     "output_type": "stream",
     "text": [
      "Hay 0 valores duplicados\n"
     ]
    }
   ],
   "source": [
    "print(f\"Hay {df6.duplicated().sum()} valores duplicados\")"
   ]
  },
  {
   "attachments": {},
   "cell_type": "markdown",
   "metadata": {},
   "source": [
    "#### <p align=center> **Refugee-origin-asylum Dataset** <p>"
   ]
  },
  {
   "cell_type": "code",
   "execution_count": 341,
   "metadata": {},
   "outputs": [
    {
     "name": "stdout",
     "output_type": "stream",
     "text": [
      "Hay 0 valores duplicados\n"
     ]
    }
   ],
   "source": [
    "print(f\"Hay {df7.duplicated().sum()} valores duplicados\")"
   ]
  },
  {
   "attachments": {},
   "cell_type": "markdown",
   "metadata": {},
   "source": [
    "#### <p align=center> **States_GDP-percapita Dataset** <p>"
   ]
  },
  {
   "cell_type": "code",
   "execution_count": 342,
   "metadata": {},
   "outputs": [
    {
     "name": "stdout",
     "output_type": "stream",
     "text": [
      "Hay 0 valores duplicados\n"
     ]
    }
   ],
   "source": [
    "print(f\"Hay {df8.duplicated().sum()} valores duplicados\")"
   ]
  },
  {
   "attachments": {},
   "cell_type": "markdown",
   "metadata": {},
   "source": [
    "#### <p align=center> **States_Mobile-Population-Research-Labor Dataset** <p>"
   ]
  },
  {
   "cell_type": "code",
   "execution_count": 343,
   "metadata": {},
   "outputs": [
    {
     "name": "stdout",
     "output_type": "stream",
     "text": [
      "Hay 0 valores duplicados\n"
     ]
    }
   ],
   "source": [
    "print(f\"Hay {df9.duplicated().sum()} valores duplicados\")"
   ]
  },
  {
   "attachments": {},
   "cell_type": "markdown",
   "metadata": {},
   "source": [
    "### **Guardamos los datasets en la misma carpeta dataset_ETL**"
   ]
  },
  {
   "cell_type": "code",
   "execution_count": 344,
   "metadata": {},
   "outputs": [],
   "source": [
    "# Guardar el DataFrame actualizado de nuevo en el archivo CSV\n",
    "\n",
    "# List of DataFrames\n",
    "dfs = [df1, df2, df3, df4, df5, df6, df7, df8, df9]\n",
    "\n",
    "# List of names for your CSV files\n",
    "names = ['Demographic_Indicators.csv', 'Economy_Complete.csv', 'Environment_Electricity-Sanitation.csv', 'Environment_Population-Density.csv', 'People_Complete.csv', 'Poverty_Maternal-Mortality.csv', 'Refugee-origin-asylum.csv', 'States_GDP-percapita.csv', 'States_Mobile-Population-Research-Labor.csv']\n",
    "\n",
    "# Directory to save the files\n",
    "save_directory = \"dataset_EDA\"\n",
    "\n",
    "# Loop over your DataFrames and save them with the corresponding name\n",
    "for df, name in zip(dfs, names):\n",
    "    save_path = os.path.join(save_directory, name)\n",
    "    df.to_csv(save_path, index=False)"
   ]
  }
 ],
 "metadata": {
  "kernelspec": {
   "display_name": "Python 3.11.1 64-bit",
   "language": "python",
   "name": "python3"
  },
  "language_info": {
   "codemirror_mode": {
    "name": "ipython",
    "version": 3
   },
   "file_extension": ".py",
   "mimetype": "text/x-python",
   "name": "python",
   "nbconvert_exporter": "python",
   "pygments_lexer": "ipython3",
   "version": "3.11.1"
  },
  "orig_nbformat": 4,
  "vscode": {
   "interpreter": {
    "hash": "aee8b7b246df8f9039afb4144a1f6fd8d2ca17a180786b69acc140d282b71a49"
   }
  }
 },
 "nbformat": 4,
 "nbformat_minor": 2
}
